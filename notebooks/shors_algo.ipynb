{
 "cells": [
  {
   "cell_type": "code",
   "execution_count": 7,
   "metadata": {},
   "outputs": [],
   "source": [
    "%%capture\n",
    "%pip install qiskit qiskit-aer qiskit-algorithms\n",
    "\n",
    "# TODO: move this file to the other jupyter notebook repo"
   ]
  },
  {
   "cell_type": "code",
   "execution_count": 8,
   "metadata": {},
   "outputs": [
    {
     "ename": "ImportError",
     "evalue": "cannot import name 'Shor' from 'qiskit_algorithms' (/Users/panda/.local/share/virtualenvs/operation-ftbs-LjNTkrWR/lib/python3.11/site-packages/qiskit_algorithms/__init__.py)",
     "output_type": "error",
     "traceback": [
      "\u001b[0;31m---------------------------------------------------------------------------\u001b[0m",
      "\u001b[0;31mImportError\u001b[0m                               Traceback (most recent call last)",
      "Cell \u001b[0;32mIn[8], line 2\u001b[0m\n\u001b[1;32m      1\u001b[0m \u001b[38;5;28;01mfrom\u001b[39;00m \u001b[38;5;21;01mqiskit_aer\u001b[39;00m \u001b[38;5;28;01mimport\u001b[39;00m Aer\n\u001b[0;32m----> 2\u001b[0m \u001b[38;5;28;01mfrom\u001b[39;00m \u001b[38;5;21;01mqiskit_algorithms\u001b[39;00m \u001b[38;5;28;01mimport\u001b[39;00m Shor\n\u001b[1;32m      3\u001b[0m \u001b[38;5;28;01mfrom\u001b[39;00m \u001b[38;5;21;01mqiskit\u001b[39;00m\u001b[38;5;21;01m.\u001b[39;00m\u001b[38;5;21;01mutils\u001b[39;00m \u001b[38;5;28;01mimport\u001b[39;00m QuantumInstance\n",
      "\u001b[0;31mImportError\u001b[0m: cannot import name 'Shor' from 'qiskit_algorithms' (/Users/panda/.local/share/virtualenvs/operation-ftbs-LjNTkrWR/lib/python3.11/site-packages/qiskit_algorithms/__init__.py)"
     ]
    }
   ],
   "source": [
    "from qiskit_aer import Aer\n",
    "from qiskit_algorithms import Shor\n",
    "from qiskit.utils import QuantumInstance"
   ]
  },
  {
   "cell_type": "code",
   "execution_count": null,
   "metadata": {},
   "outputs": [],
   "source": [
    "# Specify the number to factorize\n",
    "N = 15  # Example number\n",
    "\n",
    "# Set up a quantum instance using the Aer simulator\n",
    "quantum_instance = QuantumInstance(Aer.get_backend(\"aer_simulator\"))\n",
    "\n",
    "# Use Qiskit's Shor's Algorithm implementation\n",
    "shor = Shor(quantum_instance=quantum_instance)\n",
    "\n",
    "# Execute the algorithm\n",
    "result = shor.factor(N)\n",
    "\n",
    "# Print the result\n",
    "print(\n",
    "    \"The factors of\", N, \"are\", result.factors[0]\n",
    ")  # result.factors might be a list of lists"
   ]
  }
 ],
 "metadata": {
  "kernelspec": {
   "display_name": "operation-ftbs-LjNTkrWR",
   "language": "python",
   "name": "python3"
  },
  "language_info": {
   "codemirror_mode": {
    "name": "ipython",
    "version": 3
   },
   "file_extension": ".py",
   "mimetype": "text/x-python",
   "name": "python",
   "nbconvert_exporter": "python",
   "pygments_lexer": "ipython3",
   "version": "3.11.0"
  }
 },
 "nbformat": 4,
 "nbformat_minor": 2
}
