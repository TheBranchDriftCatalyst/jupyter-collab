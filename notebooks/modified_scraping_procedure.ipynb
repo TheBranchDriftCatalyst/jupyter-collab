{
 "cells": [
  {
   "cell_type": "code",
   "execution_count": 1,
   "metadata": {},
   "outputs": [
    {
     "name": "stdout",
     "output_type": "stream",
     "text": [
      "/Users/djdaniels/code/active_workspace/jupyter/notebooks\n"
     ]
    }
   ],
   "source": [
    "import os\n",
    "import sys\n",
    "import logging\n",
    "\n",
    "cwd = os.getcwd()\n",
    "repo_root = os.path.abspath(os.path.join(cwd, \"../\"))\n",
    "sys.path.append(repo_root)\n",
    "print(repo_root)"
   ]
  },
  {
   "cell_type": "code",
   "execution_count": 4,
   "metadata": {},
   "outputs": [],
   "source": [
    "\n",
    "\n",
    "import shelves as gr_shelves\n",
    "\n",
    "gr_shelves.get_all_shelves_threaded({\n",
    "    user_id: os.environ.get(\"GOODREADS_USER_ID\", args.user_id)\n",
    "})\n"
   ]
  },
  {
   "cell_type": "code",
   "execution_count": 2,
   "metadata": {},
   "outputs": [
    {
     "data": {
      "text/plain": [
       "{'id': '13999.To_Light_a_Candle',\n",
       " 'title': 'To Light a Candle',\n",
       " 'description': \"To Light a Candle, the second book in The Obsidian Trilogy from Mercedes Lackey and James MalloryThe Demon Queen Attacks!To his own surprise, young Kellen, once the disappointing son of the great Mage who leads the City's Mage Council, has become a powerful Knight-Mage. Valued for his bravery and his skills as both wizard and warrior, Kellen joins the Elves' war councils. Yet he cannot convince the City of his birth that it is in terrible danger. Kellen's sister Idalia, a Wild Mage with great healing ability, has pledged her heart to Jermayan, a proud Elven warrior. Someday Idalia will pay a tragic Price for a world-saving work of Wild Magic, but until then, she will claim any joy life can offer her. Jermayan, who has learned much fighting at Kellen's side and loving the human Idalia, finds that everything changes when he Bonds with a dragon while rescuing the Elf Prince and becomes the first Elven Mage in a thousand years. Furious at her enemies' success with the dragon, the Demon Queen attacks in force. Light struggles against Dark, like flickering candle flames buried deep in the shadow of Obsidian Mountain.\",\n",
       " 'url': 'https://www.goodreads.com/book/show/13999.To_Light_a_Candle',\n",
       " 'image': 'https://images-na.ssl-images-amazon.com/images/S/compressed.photo.goodreads.com/books/1388181992i/13999.jpg',\n",
       " 'author': 'Mercedes Lackey',\n",
       " 'series': {'series_name': 'Obsidian Mountain',\n",
       "  'series_url': 'https://www.goodreads.com/series/40369-obsidian-mountain',\n",
       "  'total_works': 3,\n",
       "  'primary_works': 4},\n",
       " 'number_in_series': 2.0,\n",
       " 'num_pages': 856,\n",
       " 'genres': ['Fantasy',\n",
       "  'Fiction',\n",
       "  'Dragons',\n",
       "  'Magic',\n",
       "  'Epic Fantasy',\n",
       "  'High Fantasy',\n",
       "  'Science Fiction Fantasy'],\n",
       " 'num_ratings': 9975,\n",
       " 'num_reviews': 179}"
      ]
     },
     "execution_count": 2,
     "metadata": {},
     "output_type": "execute_result"
    }
   ],
   "source": [
    "# Scrape book details\n",
    "\n",
    "import books as gr_books\n",
    "\n",
    "gr_books.scrape_book(\"13999.To_Light_a_Candle\", args={\"output_dir\": \"data\"})"
   ]
  },
  {
   "cell_type": "markdown",
   "metadata": {},
   "source": [
    "# TLDR\n",
    "\n",
    "1: Scrape user for all books.\n",
    "1A: create field map file that stores the mapping between GR and notion author/book/series\n",
    "2A: Create scraper to scrape from the kindle highlights\n",
    "3: create scraper to scrape from the audible saved snippets\n",
    "4: whisper trasncode the snippets.\n",
    "\n",
    "```mermaid\n",
    "erDiagram\n",
    "    BOOK ||--o{ GENRE : \"has\"\n",
    "    BOOK ||--|{ AUTHOR : \"written by\"\n",
    "    BOOK ||--|| SERIES : \"part of\"\n",
    "    AUTHOR ||--o{ BOOK : \"writes\"\n",
    "    SERIES ||--o{ BOOK : \"includes\"\n",
    "\n",
    "    BOOK {\n",
    "        string id PK \"Unique identifier for book\"\n",
    "        string title \"Title of the book\"\n",
    "        string description \"Description of the book\"\n",
    "        string url \"URL of the book\"\n",
    "        string image \"Image URL of the book\"\n",
    "        int num_pages \"Number of pages\"\n",
    "        int num_ratings \"Number of ratings\"\n",
    "        int num_reviews \"Number of reviews\"\n",
    "    }\n",
    "\n",
    "    GENRE {\n",
    "        string genre_name PK \"Name of the genre\"\n",
    "        string genre_url \"URL of the genre\"\n",
    "    }\n",
    "\n",
    "    AUTHOR {\n",
    "        string name PK \"Name of the author\"\n",
    "        string author_url \"URL of the author\"\n",
    "    }\n",
    "\n",
    "    SERIES {\n",
    "        string series_name PK \"Name of the series\"\n",
    "        int total_books \"Total number of books in the series\"\n",
    "    }\n",
    "\n",
    "```"
   ]
  }
 ],
 "metadata": {
  "kernelspec": {
   "display_name": "operation-ftbs-xSz9Dkk8",
   "language": "python",
   "name": "python3"
  },
  "language_info": {
   "codemirror_mode": {
    "name": "ipython",
    "version": 3
   },
   "file_extension": ".py",
   "mimetype": "text/x-python",
   "name": "python",
   "nbconvert_exporter": "python",
   "pygments_lexer": "ipython3",
   "version": "3.11.6"
  }
 },
 "nbformat": 4,
 "nbformat_minor": 2
}
