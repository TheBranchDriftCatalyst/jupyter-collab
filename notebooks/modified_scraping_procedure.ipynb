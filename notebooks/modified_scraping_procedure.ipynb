{
 "cells": [
  {
   "cell_type": "code",
   "execution_count": 1,
   "metadata": {
    "ExecuteTime": {
     "end_time": "2024-01-06T22:37:22.762793Z",
     "start_time": "2024-01-06T22:37:22.740609Z"
    }
   },
   "outputs": [],
   "source": [
    "%load_ext autoreload\n",
    "%autoreload \n",
    "\n",
    "import os\n",
    "import sys\n",
    "\n",
    "# cwd = os.getcwd()\n",
    "# repo_root = os.path.abspath(os.path.join(cwd, \"../\"))\n",
    "sys.path.append(\"../\")\n",
    "# sys.path.append(repo_root)\n"
   ]
  },
  {
   "cell_type": "code",
   "execution_count": 2,
   "metadata": {
    "ExecuteTime": {
     "end_time": "2024-01-06T22:37:25.432389Z",
     "start_time": "2024-01-06T22:37:24.131644Z"
    }
   },
   "outputs": [
    {
     "ename": "ImportError",
     "evalue": "cannot import name 'BookInfo' from 'packages.goodreads_scraper.goodreads_dto' (/Users/djdaniels/code/active_workspace/jupyter/packages/goodreads_scraper/goodreads_dto.py)",
     "output_type": "error",
     "traceback": [
      "\u001b[0;31m---------------------------------------------------------------------------\u001b[0m",
      "\u001b[0;31mImportError\u001b[0m                               Traceback (most recent call last)",
      "Cell \u001b[0;32mIn[2], line 3\u001b[0m\n\u001b[1;32m      1\u001b[0m \u001b[38;5;28;01mfrom\u001b[39;00m \u001b[38;5;21;01mnltk\u001b[39;00m\u001b[38;5;21;01m.\u001b[39;00m\u001b[38;5;21;01mcorpus\u001b[39;00m\u001b[38;5;21;01m.\u001b[39;00m\u001b[38;5;21;01mreader\u001b[39;00m \u001b[38;5;28;01mimport\u001b[39;00m AttrDict\n\u001b[1;32m      2\u001b[0m \u001b[38;5;28;01mfrom\u001b[39;00m \u001b[38;5;21;01margparse\u001b[39;00m \u001b[38;5;28;01mimport\u001b[39;00m Namespace\n\u001b[0;32m----> 3\u001b[0m \u001b[38;5;28;01mfrom\u001b[39;00m \u001b[38;5;21;01mpackages\u001b[39;00m\u001b[38;5;21;01m.\u001b[39;00m\u001b[38;5;21;01mgoodreads_scraper\u001b[39;00m \u001b[38;5;28;01mimport\u001b[39;00m shelves \u001b[38;5;28;01mas\u001b[39;00m gr_shelf\n\u001b[1;32m      5\u001b[0m args \u001b[38;5;241m=\u001b[39m AttrDict({\n\u001b[1;32m      6\u001b[0m   \u001b[38;5;124m\"\u001b[39m\u001b[38;5;124muser_id\u001b[39m\u001b[38;5;124m\"\u001b[39m: os\u001b[38;5;241m.\u001b[39menviron\u001b[38;5;241m.\u001b[39mget(\u001b[38;5;124m\"\u001b[39m\u001b[38;5;124mGOODREADS_USER_ID\u001b[39m\u001b[38;5;124m\"\u001b[39m, \u001b[38;5;124m'\u001b[39m\u001b[38;5;124m27881183\u001b[39m\u001b[38;5;124m'\u001b[39m),\n\u001b[1;32m      7\u001b[0m   \u001b[38;5;124m\"\u001b[39m\u001b[38;5;124mmax_pages\u001b[39m\u001b[38;5;124m\"\u001b[39m: \u001b[38;5;241m1\u001b[39m \n\u001b[1;32m      8\u001b[0m })\n\u001b[1;32m      9\u001b[0m gr_shelf\u001b[38;5;241m.\u001b[39mget_shelf(args, \u001b[38;5;124m\"\u001b[39m\u001b[38;5;124mRead\u001b[39m\u001b[38;5;124m\"\u001b[39m)\n",
      "File \u001b[0;32m~/code/active_workspace/jupyter/packages/goodreads_scraper/shelves.py:5\u001b[0m\n\u001b[1;32m      2\u001b[0m \u001b[38;5;28;01mfrom\u001b[39;00m \u001b[38;5;21;01murllib\u001b[39;00m\u001b[38;5;21;01m.\u001b[39;00m\u001b[38;5;21;01mrequest\u001b[39;00m \u001b[38;5;28;01mimport\u001b[39;00m urlopen\n\u001b[1;32m      3\u001b[0m \u001b[38;5;28;01mfrom\u001b[39;00m \u001b[38;5;21;01mbs4\u001b[39;00m \u001b[38;5;28;01mimport\u001b[39;00m BeautifulSoup\n\u001b[0;32m----> 5\u001b[0m \u001b[38;5;28;01mfrom\u001b[39;00m \u001b[38;5;21;01mpackages\u001b[39;00m\u001b[38;5;21;01m.\u001b[39;00m\u001b[38;5;21;01mgoodreads_scraper\u001b[39;00m\u001b[38;5;21;01m.\u001b[39;00m\u001b[38;5;21;01mgoodreads_dto\u001b[39;00m \u001b[38;5;28;01mimport\u001b[39;00m BookInfo\n\u001b[1;32m      6\u001b[0m \u001b[38;5;28;01mfrom\u001b[39;00m \u001b[38;5;21;01mutils\u001b[39;00m\u001b[38;5;21;01m.\u001b[39;00m\u001b[38;5;21;01mexpo_backoff\u001b[39;00m \u001b[38;5;28;01mimport\u001b[39;00m ExpoBackoff\n\u001b[1;32m      7\u001b[0m \u001b[38;5;28;01mfrom\u001b[39;00m \u001b[38;5;21;01mlogging\u001b[39;00m \u001b[38;5;28;01mimport\u001b[39;00m getLogger\n",
      "\u001b[0;31mImportError\u001b[0m: cannot import name 'BookInfo' from 'packages.goodreads_scraper.goodreads_dto' (/Users/djdaniels/code/active_workspace/jupyter/packages/goodreads_scraper/goodreads_dto.py)"
     ]
    }
   ],
   "source": [
    "from nltk.corpus.reader import AttrDict\n",
    "from argparse import Namespace\n",
    "from packages.goodreads_scraper import shelves as gr_shelf\n",
    "\n",
    "args = AttrDict({\n",
    "  \"user_id\": os.environ.get(\"GOODREADS_USER_ID\", '27881183'),\n",
    "  \"max_pages\": 1 \n",
    "})\n",
    "gr_shelf.get_shelf(args, \"Read\")\n"
   ]
  },
  {
   "cell_type": "markdown",
   "metadata": {},
   "source": [
    "# TLDR\n",
    "\n",
    "1: Scrape user for all books.\n",
    "1A: create field map file that stores the mapping between GR and notion author/book/series\n",
    "2A: Create scraper to scrape from the kindle highlights\n",
    "3: create scraper to scrape from the audible saved snippets\n",
    "4: whisper trasncode the snippets.\n",
    "\n",
    "```mermaid\n",
    "erDiagram\n",
    "    BOOK ||--o{ GENRE : \"has\"\n",
    "    BOOK ||--|{ AUTHOR : \"written by\"\n",
    "    BOOK ||--|| SERIES : \"part of\"\n",
    "    AUTHOR ||--o{ BOOK : \"writes\"\n",
    "    SERIES ||--o{ BOOK : \"includes\"\n",
    "\n",
    "    BOOK {\n",
    "        string id PK \"Unique identifier for book\"\n",
    "        string title \"Title of the book\"\n",
    "        string description \"Description of the book\"\n",
    "        string url \"URL of the book\"\n",
    "        string image \"Image URL of the book\"\n",
    "        int num_pages \"Number of pages\"\n",
    "        int num_ratings \"Number of ratings\"\n",
    "        int num_reviews \"Number of reviews\"\n",
    "    }\n",
    "\n",
    "    GENRE {\n",
    "        string genre_name PK \"Name of the genre\"\n",
    "        string genre_url \"URL of the genre\"\n",
    "    }\n",
    "\n",
    "    AUTHOR {\n",
    "        string name PK \"Name of the author\"\n",
    "        string author_url \"URL of the author\"\n",
    "    }\n",
    "\n",
    "    SERIES {\n",
    "        string series_name PK \"Name of the series\"\n",
    "        int total_books \"Total number of books in the series\"\n",
    "    }\n",
    "\n",
    "```"
   ]
  }
 ],
 "metadata": {
  "kernelspec": {
   "display_name": "operation-ftbs-xSz9Dkk8",
   "language": "python",
   "name": "python3"
  },
  "language_info": {
   "codemirror_mode": {
    "name": "ipython",
    "version": 3
   },
   "file_extension": ".py",
   "mimetype": "text/x-python",
   "name": "python",
   "nbconvert_exporter": "python",
   "pygments_lexer": "ipython3",
   "version": "3.11.8"
  }
 },
 "nbformat": 4,
 "nbformat_minor": 2
}
