{
 "cells": [
  {
   "cell_type": "code",
   "execution_count": 1,
   "metadata": {
    "ExecuteTime": {
     "end_time": "2023-12-15T00:51:32.914532Z",
     "start_time": "2023-12-15T00:51:32.892688Z"
    }
   },
   "outputs": [],
   "source": [
    "%load_ext autoreload\n",
    "%autoreload \n",
    "\n",
    "import os\n",
    "import sys\n",
    "\n",
    "# cwd = os.getcwd()\n",
    "# repo_root = os.path.abspath(os.path.join(cwd, \"../\"))\n",
    "sys.path.append(\"../\")\n",
    "# sys.path.append(repo_root)\n"
   ]
  },
  {
   "cell_type": "code",
   "execution_count": 1,
   "metadata": {
    "ExecuteTime": {
     "end_time": "2023-12-15T00:51:32.917705Z",
     "start_time": "2023-12-15T00:51:32.914495Z"
    }
   },
   "outputs": [],
   "source": []
  },
  {
   "cell_type": "code",
   "execution_count": 2,
   "metadata": {
    "ExecuteTime": {
     "end_time": "2023-12-15T00:51:35.495556Z",
     "start_time": "2023-12-15T00:51:32.917901Z"
    }
   },
   "outputs": [
    {
     "data": {
      "text/plain": "{'id': '4900.Heart_of_Darkness',\n 'title': 'Heart of Darkness',\n 'description': \"Heart of Darkness, a novel by Joseph Conrad, was originally a three-part series in Blackwood's Magazine in 1899. It is a story within a story, following a character named Charlie Marlow, who recounts his adventure to a group of men onboard an anchored ship. The story told is of his early life as a ferry boat captain. Although his job was to transport ivory downriver, Charlie develops an interest in investing an ivory procurement agent, Kurtz, who is employed by the government. Preceded by his reputation as a brilliant emissary of progress, Kurtz has now established himself as a god among the natives in “one of the darkest places on earth.” Marlow suspects something else of Kurtz: he has gone mad.A reflection on corruptive European colonialism and a journey into the nightmare psyche of one of the corrupted, Heart of Darkness is considered one of the most influential works ever written.\",\n 'url': 'https://www.goodreads.com/book/show/4900.Heart_of_Darkness',\n 'image': 'https://images-na.ssl-images-amazon.com/images/S/compressed.photo.goodreads.com/books/1392799983i/4900.jpg',\n 'author': 'Joseph Conrad',\n 'series': None,\n 'number_in_series': None,\n 'genres': ['Classics',\n  'Fiction',\n  'Literature',\n  'Africa',\n  'Historical Fiction',\n  'School',\n  'Novels'],\n 'num_pages': 188,\n 'num_ratings': 502144,\n 'num_reviews': 19907}"
     },
     "execution_count": 2,
     "metadata": {},
     "output_type": "execute_result"
    }
   ],
   "source": [
    "# Scrape book details\n",
    "\n",
    "from packages.goodreads_scraper import books as gr_books\n",
    "\n",
    "gr_books.scrape_book(\"4900.Heart_of_Darkness\", args={\"output_dir\": \"data\"})"
   ]
  },
  {
   "cell_type": "markdown",
   "metadata": {},
   "source": [
    "# TLDR\n",
    "\n",
    "1: Scrape user for all books.\n",
    "1A: create field map file that stores the mapping between GR and notion author/book/series\n",
    "2A: Create scraper to scrape from the kindle highlights\n",
    "3: create scraper to scrape from the audible saved snippets\n",
    "4: whisper trasncode the snippets.\n",
    "\n",
    "```mermaid\n",
    "erDiagram\n",
    "    BOOK ||--o{ GENRE : \"has\"\n",
    "    BOOK ||--|{ AUTHOR : \"written by\"\n",
    "    BOOK ||--|| SERIES : \"part of\"\n",
    "    AUTHOR ||--o{ BOOK : \"writes\"\n",
    "    SERIES ||--o{ BOOK : \"includes\"\n",
    "\n",
    "    BOOK {\n",
    "        string id PK \"Unique identifier for book\"\n",
    "        string title \"Title of the book\"\n",
    "        string description \"Description of the book\"\n",
    "        string url \"URL of the book\"\n",
    "        string image \"Image URL of the book\"\n",
    "        int num_pages \"Number of pages\"\n",
    "        int num_ratings \"Number of ratings\"\n",
    "        int num_reviews \"Number of reviews\"\n",
    "    }\n",
    "\n",
    "    GENRE {\n",
    "        string genre_name PK \"Name of the genre\"\n",
    "        string genre_url \"URL of the genre\"\n",
    "    }\n",
    "\n",
    "    AUTHOR {\n",
    "        string name PK \"Name of the author\"\n",
    "        string author_url \"URL of the author\"\n",
    "    }\n",
    "\n",
    "    SERIES {\n",
    "        string series_name PK \"Name of the series\"\n",
    "        int total_books \"Total number of books in the series\"\n",
    "    }\n",
    "\n",
    "```"
   ]
  },
  {
   "cell_type": "code",
   "execution_count": 2,
   "outputs": [],
   "source": [],
   "metadata": {
    "collapsed": false,
    "ExecuteTime": {
     "end_time": "2023-12-15T00:51:35.495827Z",
     "start_time": "2023-12-15T00:51:35.489017Z"
    }
   }
  }
 ],
 "metadata": {
  "kernelspec": {
   "display_name": "operation-ftbs-xSz9Dkk8",
   "language": "python",
   "name": "python3"
  },
  "language_info": {
   "codemirror_mode": {
    "name": "ipython",
    "version": 3
   },
   "file_extension": ".py",
   "mimetype": "text/x-python",
   "name": "python",
   "nbconvert_exporter": "python",
   "pygments_lexer": "ipython3",
   "version": "3.11.6"
  }
 },
 "nbformat": 4,
 "nbformat_minor": 2
}
