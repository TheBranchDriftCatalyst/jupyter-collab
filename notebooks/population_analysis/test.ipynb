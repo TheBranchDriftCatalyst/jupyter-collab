{
 "cells": [
  {
   "cell_type": "code",
   "execution_count": 13,
   "metadata": {},
   "outputs": [],
   "source": [
    "import collections\n",
    "from sklearn.linear_model import LinearRegression\n",
    "import numpy as np\n",
    "import ipywidgets as widgets\n",
    "from IPython.display import display\n",
    "import matplotlib.pyplot as plt\n",
    "import wbgapi as wb\n",
    "import datetime\n",
    "\n",
    "collections.MutableSequence = collections.abc.MutableSequence\n",
    "\n",
    "# Fetch population data for all countries from 1970 to the present\n",
    "data_date = (datetime.datetime(1970, 1, 1), datetime.datetime.now())\n",
    "population_data = wb.data.DataFrame(\"SP.POP.TOTL\")"
   ]
  },
  {
   "cell_type": "code",
   "execution_count": null,
   "metadata": {},
   "outputs": [],
   "source": [
    "\n",
    "def forecast_population(country_data, years=50, volatility=0):\n",
    "    # Extract year and population values\n",
    "    years = [int(year) for year in country_data.keys()]\n",
    "    populations = [pop['value'] for pop in country_data.values()]\n",
    "    \n",
    "    # Add volatility\n",
    "    populations = [pop + np.random.normal(0, volatility) for pop in populations]\n",
    "    \n",
    "    # Train a linear regression model\n",
    "    model = LinearRegression().fit(np.array(years).reshape(-1, 1), populations)\n",
    "    \n",
    "    # Predict the next 50 years\n",
    "    future_years = np.array(list(range(max(years) + 1, max(years) + 51))).reshape(-1, 1)\n",
    "    future_populations = model.predict(future_years)\n",
    "    \n",
    "    return future_years, future_populations\n",
    "\n",
    "def plot_forecast(country_code, volatility):\n",
    "    country_data = population_data[country_code]\n",
    "    future_years, future_populations = forecast_population(country_data, volatility=volatility)\n",
    "    \n",
    "    # Plot\n",
    "    plt.figure(figsize=(10, 6))\n",
    "    plt.plot(future_years, future_populations, label='Forecast')\n",
    "    plt.title(f\"Population Forecast for {country_code}\")\n",
    "    plt.xlabel(\"Year\")\n",
    "    plt.ylabel(\"Population\")\n",
    "    plt.legend()\n",
    "    plt.show()\n",
    "\n",
    "# Create a dropdown for country selection\n",
    "country_codes = list(population_data.keys())\n",
    "country_dropdown = widgets.Dropdown(options=country_codes, description='Country:')\n",
    "volatility_slider = widgets.FloatSlider(min=0, max=100000, step=1000, description='Volatility:')\n",
    "\n",
    "widgets.interactive(plot_forecast, country_code=country_dropdown, volatility=volatility_slider)\n"
   ]
  }
 ],
 "metadata": {
  "kernelspec": {
   "display_name": "jupyter-byZSjI24",
   "language": "python",
   "name": "python3"
  },
  "language_info": {
   "codemirror_mode": {
    "name": "ipython",
    "version": 3
   },
   "file_extension": ".py",
   "mimetype": "text/x-python",
   "name": "python",
   "nbconvert_exporter": "python",
   "pygments_lexer": "ipython3",
   "version": "3.11.6"
  },
  "orig_nbformat": 4
 },
 "nbformat": 4,
 "nbformat_minor": 2
}
