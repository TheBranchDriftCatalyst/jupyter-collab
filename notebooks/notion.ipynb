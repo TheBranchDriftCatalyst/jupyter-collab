{
 "cells": [
  {
   "cell_type": "code",
   "execution_count": 1,
   "metadata": {
    "ExecuteTime": {
     "end_time": "2024-01-11T16:42:54.797849Z",
     "start_time": "2024-01-06T22:58:56.751075Z"
    }
   },
   "outputs": [
    {
     "ename": "KeyboardInterrupt",
     "evalue": "",
     "output_type": "error",
     "traceback": [
      "\u001B[0;31m---------------------------------------------------------------------------\u001B[0m",
      "\u001B[0;31mKeyboardInterrupt\u001B[0m                         Traceback (most recent call last)",
      "Cell \u001B[0;32mIn[1], line 28\u001B[0m\n\u001B[1;32m     26\u001B[0m NotionInboxConnector \u001B[38;5;241m=\u001B[39m NotionConnector(api_key, database_id, \u001B[38;5;124m\"\u001B[39m\u001B[38;5;124minbox\u001B[39m\u001B[38;5;124m\"\u001B[39m)\n\u001B[1;32m     27\u001B[0m NotionBooksConnector \u001B[38;5;241m=\u001B[39m NotionConnector(api_key, books_db, \u001B[38;5;124m\"\u001B[39m\u001B[38;5;124mbooks\u001B[39m\u001B[38;5;124m\"\u001B[39m)\n\u001B[0;32m---> 28\u001B[0m results \u001B[38;5;241m=\u001B[39m \u001B[43mNotionInboxConnector\u001B[49m\u001B[38;5;241;43m.\u001B[39;49m\u001B[43mget_database\u001B[49m\u001B[43m(\u001B[49m\u001B[43m)\u001B[49m\n\u001B[1;32m     29\u001B[0m results\n",
      "File \u001B[0;32m~/code/active_workspace/jupyter/utils/notion_connector.py:42\u001B[0m, in \u001B[0;36mNotionConnector.get_database\u001B[0;34m(self, db_name)\u001B[0m\n\u001B[1;32m     33\u001B[0m response \u001B[38;5;241m=\u001B[39m requests\u001B[38;5;241m.\u001B[39mpost(\n\u001B[1;32m     34\u001B[0m     \u001B[38;5;124mf\u001B[39m\u001B[38;5;124m\"\u001B[39m\u001B[38;5;124mhttps://api.notion.com/v1/databases/\u001B[39m\u001B[38;5;132;01m{\u001B[39;00mdb_id\u001B[38;5;132;01m}\u001B[39;00m\u001B[38;5;124m/query\u001B[39m\u001B[38;5;124m\"\u001B[39m,\n\u001B[1;32m     35\u001B[0m     json\u001B[38;5;241m=\u001B[39m{}\n\u001B[0;32m   (...)\u001B[0m\n\u001B[1;32m     38\u001B[0m     headers\u001B[38;5;241m=\u001B[39m\u001B[38;5;28mself\u001B[39m\u001B[38;5;241m.\u001B[39mheaders,\n\u001B[1;32m     39\u001B[0m )\u001B[38;5;241m.\u001B[39mjson()\n\u001B[1;32m     40\u001B[0m \u001B[38;5;66;03m# ic(\"response\", response)\u001B[39;00m\n\u001B[1;32m     41\u001B[0m \u001B[38;5;66;03m# Ensure that 'results' key exists in the response\u001B[39;00m\n\u001B[0;32m---> 42\u001B[0m \u001B[38;5;28;01mif\u001B[39;00m \u001B[38;5;124m\"\u001B[39m\u001B[38;5;124mresults\u001B[39m\u001B[38;5;124m\"\u001B[39m \u001B[38;5;129;01min\u001B[39;00m response:\n\u001B[1;32m     43\u001B[0m     \u001B[38;5;66;03m# TODO: need to fix this here, its getting an array\u001B[39;00m\n\u001B[1;32m     44\u001B[0m     records \u001B[38;5;241m+\u001B[39m\u001B[38;5;241m=\u001B[39m \u001B[38;5;28mlist\u001B[39m(\n\u001B[1;32m     45\u001B[0m         \u001B[38;5;28mmap\u001B[39m(\u001B[38;5;28mself\u001B[39m\u001B[38;5;241m.\u001B[39mextract_all_property_values, response[\u001B[38;5;124m\"\u001B[39m\u001B[38;5;124mresults\u001B[39m\u001B[38;5;124m\"\u001B[39m])\n\u001B[1;32m     46\u001B[0m     )\n\u001B[1;32m     47\u001B[0m     \u001B[38;5;66;03m# records.extend(self.extract_all_property_values(response[\"results\"]))\u001B[39;00m\n\u001B[1;32m     48\u001B[0m \u001B[38;5;28;01melse\u001B[39;00m:\n",
      "File \u001B[0;32m_pydevd_bundle/pydevd_cython_darwin_311_64.pyx:1187\u001B[0m, in \u001B[0;36m_pydevd_bundle.pydevd_cython_darwin_311_64.SafeCallWrapper.__call__\u001B[0;34m()\u001B[0m\n",
      "File \u001B[0;32m_pydevd_bundle/pydevd_cython_darwin_311_64.pyx:627\u001B[0m, in \u001B[0;36m_pydevd_bundle.pydevd_cython_darwin_311_64.PyDBFrame.trace_dispatch\u001B[0;34m()\u001B[0m\n",
      "File \u001B[0;32m_pydevd_bundle/pydevd_cython_darwin_311_64.pyx:937\u001B[0m, in \u001B[0;36m_pydevd_bundle.pydevd_cython_darwin_311_64.PyDBFrame.trace_dispatch\u001B[0;34m()\u001B[0m\n",
      "File \u001B[0;32m_pydevd_bundle/pydevd_cython_darwin_311_64.pyx:928\u001B[0m, in \u001B[0;36m_pydevd_bundle.pydevd_cython_darwin_311_64.PyDBFrame.trace_dispatch\u001B[0;34m()\u001B[0m\n",
      "File \u001B[0;32m_pydevd_bundle/pydevd_cython_darwin_311_64.pyx:585\u001B[0m, in \u001B[0;36m_pydevd_bundle.pydevd_cython_darwin_311_64.PyDBFrame.do_wait_suspend\u001B[0;34m()\u001B[0m\n",
      "File \u001B[0;32m~/Library/Application Support/JetBrains/IntelliJIdea2023.3/plugins/python/helpers/pydev/pydevd.py:1184\u001B[0m, in \u001B[0;36mPyDB.do_wait_suspend\u001B[0;34m(self, thread, frame, event, arg, send_suspend_message, is_unhandled_exception)\u001B[0m\n\u001B[1;32m   1181\u001B[0m         from_this_thread\u001B[38;5;241m.\u001B[39mappend(frame_id)\n\u001B[1;32m   1183\u001B[0m \u001B[38;5;28;01mwith\u001B[39;00m \u001B[38;5;28mself\u001B[39m\u001B[38;5;241m.\u001B[39m_threads_suspended_single_notification\u001B[38;5;241m.\u001B[39mnotify_thread_suspended(thread_id, stop_reason):\n\u001B[0;32m-> 1184\u001B[0m     \u001B[38;5;28;43mself\u001B[39;49m\u001B[38;5;241;43m.\u001B[39;49m\u001B[43m_do_wait_suspend\u001B[49m\u001B[43m(\u001B[49m\u001B[43mthread\u001B[49m\u001B[43m,\u001B[49m\u001B[43m \u001B[49m\u001B[43mframe\u001B[49m\u001B[43m,\u001B[49m\u001B[43m \u001B[49m\u001B[43mevent\u001B[49m\u001B[43m,\u001B[49m\u001B[43m \u001B[49m\u001B[43marg\u001B[49m\u001B[43m,\u001B[49m\u001B[43m \u001B[49m\u001B[43msuspend_type\u001B[49m\u001B[43m,\u001B[49m\u001B[43m \u001B[49m\u001B[43mfrom_this_thread\u001B[49m\u001B[43m)\u001B[49m\n",
      "File \u001B[0;32m~/Library/Application Support/JetBrains/IntelliJIdea2023.3/plugins/python/helpers/pydev/pydevd.py:1199\u001B[0m, in \u001B[0;36mPyDB._do_wait_suspend\u001B[0;34m(self, thread, frame, event, arg, suspend_type, from_this_thread)\u001B[0m\n\u001B[1;32m   1196\u001B[0m             \u001B[38;5;28mself\u001B[39m\u001B[38;5;241m.\u001B[39m_call_mpl_hook()\n\u001B[1;32m   1198\u001B[0m         \u001B[38;5;28mself\u001B[39m\u001B[38;5;241m.\u001B[39mprocess_internal_commands()\n\u001B[0;32m-> 1199\u001B[0m         \u001B[43mtime\u001B[49m\u001B[38;5;241;43m.\u001B[39;49m\u001B[43msleep\u001B[49m\u001B[43m(\u001B[49m\u001B[38;5;241;43m0.01\u001B[39;49m\u001B[43m)\u001B[49m\n\u001B[1;32m   1201\u001B[0m \u001B[38;5;28mself\u001B[39m\u001B[38;5;241m.\u001B[39mcancel_async_evaluation(get_current_thread_id(thread), \u001B[38;5;28mstr\u001B[39m(\u001B[38;5;28mid\u001B[39m(frame)))\n\u001B[1;32m   1203\u001B[0m \u001B[38;5;66;03m# process any stepping instructions\u001B[39;00m\n",
      "\u001B[0;31mKeyboardInterrupt\u001B[0m: "
     ]
    }
   ],
   "source": [
    "%load_ext autoreload\n",
    "%autoreload \n",
    "# from dotenv import load_dotenv\n",
    "import os\n",
    "import sys\n",
    "\n",
    "sys.path.append(\"../\")\n",
    "# load_dotenv()\n",
    "\n",
    "from utils.notion_connector import NotionConnector\n",
    "\n",
    "\n",
    "\n",
    "# Constants: set your Notion API details here\n",
    "api_key = os.environ.get(\"NOTION_CONNECTION_SECRET\")\n",
    "database_id = os.environ.get(\"NOTION_INBOX_DB\")  # or page/item ID as needed\n",
    "books_db = os.environ.get(\"NOTION_BOOKS_DB\")  # or page/item ID as needed\n",
    "\n",
    "api_key=\"secret_eR4tFTbg7JicddiQykrLsuQsGhTJpwPkdpl90jlrfhD\"\n",
    "database_id=\"1f49a9ccad3e459bba2243b6d848657e\"\n",
    "books_db=\"9bffcff0f8574fd0ae3f08e6215720c3\"\n",
    "series_db=\"\"\n",
    "NOTION_SERIES_DB=\"72456e9a10ba48babebb7528effab66e\"\n",
    "\n",
    "\n",
    "# define request to Notion API\n",
    "NotionInboxConnector = NotionConnector(api_key, database_id, \"inbox\")\n",
    "NotionBooksConnector = NotionConnector(api_key, books_db, \"books\")\n",
    "results = NotionInboxConnector.get_database()\n",
    "results"
   ]
  },
  {
   "cell_type": "code",
   "execution_count": null,
   "metadata": {},
   "outputs": [],
   "source": []
  }
 ],
 "metadata": {
  "kernelspec": {
   "display_name": "jupyter-byZSjI24",
   "language": "python",
   "name": "python3"
  },
  "language_info": {
   "codemirror_mode": {
    "name": "ipython",
    "version": 3
   },
   "file_extension": ".py",
   "mimetype": "text/x-python",
   "name": "python",
   "nbconvert_exporter": "python",
   "pygments_lexer": "ipython3",
   "version": "3.11.6"
  }
 },
 "nbformat": 4,
 "nbformat_minor": 2
}
