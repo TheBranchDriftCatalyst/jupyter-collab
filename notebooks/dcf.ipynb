{
 "cells": [
  {
   "cell_type": "code",
   "execution_count": 1,
   "metadata": {},
   "outputs": [
    {
     "data": {
      "application/vnd.jupyter.widget-view+json": {
       "model_id": "195f73cfee254c9fb79dda17d8cb9985",
       "version_major": 2,
       "version_minor": 0
      },
      "text/plain": [
       "interactive(children=(IntSlider(value=5, description='Years:', max=20, min=1), FloatSlider(value=1000.0, descr…"
      ]
     },
     "metadata": {},
     "output_type": "display_data"
    }
   ],
   "source": [
    "import numpy as np\n",
    "import matplotlib.pyplot as plt\n",
    "import ipywidgets as widgets\n",
    "from IPython.display import display\n",
    "\n",
    "def calculate_dcf(cashflows, discount_rate):\n",
    "    \"\"\"\n",
    "    Calculate the DCF value based on cashflows and a discount rate.\n",
    "    \"\"\"\n",
    "    years = np.arange(len(cashflows))\n",
    "    discounted_cashflows = cashflows / (1 + discount_rate) ** years\n",
    "    return discounted_cashflows.sum()\n",
    "\n",
    "def plot_dcf(years=5, initial_cashflow=1000, growth_rate=0.05, discount_rate=0.1):\n",
    "    \"\"\"\n",
    "    Visualize DCF based on the number of years, initial cashflow, growth rate, and discount rate.\n",
    "    \"\"\"\n",
    "    cashflows = [initial_cashflow * ((1 + growth_rate) ** year) for year in range(years)]\n",
    "    dcf_value = calculate_dcf(cashflows, discount_rate)\n",
    "\n",
    "    # Plotting\n",
    "    plt.figure(figsize=(10,6))\n",
    "    plt.bar(range(years), cashflows, label=\"Projected Cash Flows\")\n",
    "    plt.axhline(y=dcf_value/years, color='r', linestyle='--', label=\"Average Discounted Cash Flows\")\n",
    "    plt.title(f\"DCF Analysis (Value: ${dcf_value:.2f})\")\n",
    "    plt.xlabel(\"Year\")\n",
    "    plt.ylabel(\"Cash Flow\")\n",
    "    plt.legend()\n",
    "    plt.grid(axis='y')\n",
    "    plt.show()\n",
    "\n",
    "# Interactive Widgets\n",
    "years_slider = widgets.IntSlider(value=5, min=1, max=20, step=1, description='Years:')\n",
    "initial_cashflow_slider = widgets.FloatSlider(value=1000, min=100, max=10000, step=50, description='Initial CF:')\n",
    "growth_rate_slider = widgets.FloatSlider(value=0.05, min=-0.2, max=0.2, step=0.01, description='Growth Rate:')\n",
    "discount_rate_slider = widgets.FloatSlider(value=0.1, min=0, max=0.2, step=0.01, description='Discount Rate:')\n",
    "\n",
    "interactive_plot = widgets.interactive(\n",
    "    plot_dcf,\n",
    "    years=years_slider,\n",
    "    initial_cashflow=initial_cashflow_slider,\n",
    "    growth_rate=growth_rate_slider,\n",
    "    discount_rate=discount_rate_slider\n",
    ")\n",
    "\n",
    "display(interactive_plot)\n"
   ]
  },
  {
   "cell_type": "code",
   "execution_count": 2,
   "metadata": {},
   "outputs": [
    {
     "name": "stderr",
     "output_type": "stream",
     "text": [
      "/var/folders/65/57wn7ttx42713rnb3qc3k2ph0000gn/T/ipykernel_89082/1409045097.py:3: UserWarning: \n",
      "The dash_core_components package is deprecated. Please replace\n",
      "`import dash_core_components as dcc` with `from dash import dcc`\n",
      "  import dash_core_components as dcc\n"
     ]
    },
    {
     "data": {
      "text/html": [
       "\n",
       "        <iframe\n",
       "            width=\"100%\"\n",
       "            height=\"650\"\n",
       "            src=\"http://127.0.0.1:8050/\"\n",
       "            frameborder=\"0\"\n",
       "            allowfullscreen\n",
       "            \n",
       "        ></iframe>\n",
       "        "
      ],
      "text/plain": [
       "<IPython.lib.display.IFrame at 0x1159d2610>"
      ]
     },
     "metadata": {},
     "output_type": "display_data"
    }
   ],
   "source": [
    "import dash\n",
    "from dash import html\n",
    "import dash_core_components as dcc\n",
    "from dash.dependencies import Input, Output\n",
    "import plotly.graph_objects as go\n",
    "import numpy as np\n",
    "\n",
    "# Create the Dash app\n",
    "app = dash.Dash(__name__)\n",
    "\n",
    "# Layout of the Dash app\n",
    "app.layout = html.Div([\n",
    "    dcc.Graph(id='dcf-plot'),\n",
    "    html.Div([\n",
    "        dcc.Slider(\n",
    "            id='years-slider',\n",
    "            min=1,\n",
    "            max=20,\n",
    "            value=5,\n",
    "            marks={i: str(i) for i in range(1, 21)},\n",
    "            step=1\n",
    "        ),\n",
    "        html.Label('Years'),\n",
    "        \n",
    "        dcc.Slider(\n",
    "            id='initial-cf-slider',\n",
    "            min=100,\n",
    "            max=10000,\n",
    "            value=1000,\n",
    "            marks={i: str(i) for i in range(100, 10001, 1000)},\n",
    "            step=50\n",
    "        ),\n",
    "        html.Label('Initial CF'),\n",
    "        \n",
    "        dcc.Slider(\n",
    "            id='growth-rate-slider',\n",
    "            min=-0.2,\n",
    "            max=0.2,\n",
    "            value=0.05,\n",
    "            marks={i: f'{i:.2f}' for i in np.linspace(-0.2, 0.2, 9)},\n",
    "            step=0.01\n",
    "        ),\n",
    "        html.Label('Growth Rate'),\n",
    "        \n",
    "        dcc.Slider(\n",
    "            id='discount-rate-slider',\n",
    "            min=0,\n",
    "            max=0.2,\n",
    "            value=0.1,\n",
    "            marks={i: f'{i:.2f}' for i in np.linspace(0, 0.2, 9)},\n",
    "            step=0.01\n",
    "        ),\n",
    "        html.Label('Discount Rate')\n",
    "    ])\n",
    "])\n",
    "\n",
    "@app.callback(\n",
    "    Output('dcf-plot', 'figure'),\n",
    "    [Input('years-slider', 'value'),\n",
    "     Input('initial-cf-slider', 'value'),\n",
    "     Input('growth-rate-slider', 'value'),\n",
    "     Input('discount-rate-slider', 'value')]\n",
    ")\n",
    "def update_plot(years, initial_cashflow, growth_rate, discount_rate):\n",
    "    cashflows = [initial_cashflow * ((1 + growth_rate) ** year) for year in range(years)]\n",
    "    dcf_value = sum(cashflows) / (1 + discount_rate) ** np.arange(years)\n",
    "\n",
    "    trace1 = go.Bar(x=list(range(years)), y=cashflows, name='Projected Cash Flows')\n",
    "    trace2 = go.Scatter(x=list(range(years)), y=[dcf_value.mean()] * years, mode='lines', name='Average Discounted Cash Flows', line=dict(dash='dash', color='red'))\n",
    "    \n",
    "    layout = go.Layout(\n",
    "        title=f\"DCF Analysis (Value: ${dcf_value.sum():.2f})\",\n",
    "        xaxis=dict(title=\"Year\"),\n",
    "        yaxis=dict(title=\"Cash Flow\"),\n",
    "        hovermode=\"x unified\"\n",
    "    )\n",
    "    \n",
    "    return {\"data\": [trace1, trace2], \"layout\": layout}\n",
    "\n",
    "if __name__ == '__main__':\n",
    "    app.run_server(debug=True)\n"
   ]
  }
 ],
 "metadata": {
  "kernelspec": {
   "display_name": "jupyter-byZSjI24",
   "language": "python",
   "name": "python3"
  },
  "language_info": {
   "codemirror_mode": {
    "name": "ipython",
    "version": 3
   },
   "file_extension": ".py",
   "mimetype": "text/x-python",
   "name": "python",
   "nbconvert_exporter": "python",
   "pygments_lexer": "ipython3",
   "version": "3.11.8"
  },
  "orig_nbformat": 4
 },
 "nbformat": 4,
 "nbformat_minor": 2
}
