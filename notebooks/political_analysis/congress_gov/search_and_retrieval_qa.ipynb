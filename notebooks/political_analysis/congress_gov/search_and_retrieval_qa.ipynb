{
 "cells": [
  {
   "cell_type": "markdown",
   "metadata": {
    "id": "XN9mbpT2SWSx"
   },
   "source": [
    "<center>\n",
    "    <p style=\"text-align:center\">\n",
    "        <img alt=\"arize llama-index logos\" src=\"https://storage.googleapis.com/arize-assets/phoenix/assets/docs/notebooks/milvus_tutorial/arize_zilliz.png\" width=\"400\">\n",
    "        <br>\n",
    "        <a href=\"https://docs.arize.com/phoenix/\">Docs</a>\n",
    "        |\n",
    "        <a href=\"https://github.com/Arize-ai/phoenix\">GitHub</a>\n",
    "        |\n",
    "        <a href=\"https://join.slack.com/t/arize-ai/shared_invite/zt-1px8dcmlf-fmThhDFD_V_48oU7ALan4Q\">Community</a>\n",
    "    </p>\n",
    "</center>\n",
    "<h1 align=\"center\">Evaluating and Improving a LlamaIndex Search and Retrieval Application using Milvus as a Vector Store</h1>\n",
    "\n",
    "Imagine you're an engineer at Arize AI and you've built and deployed a documentation question-answering service using LlamaIndex. Users send questions about Arize's core product via a chat interface, and your service retrieves documents from your documentation in order to generate a response to the user. As the engineer in charge of evaluating and maintaining this system, you want to evaluate the quality of the responses from your service.\n",
    "\n",
    "Phoenix helps you:\n",
    "- identify gaps in your documentation\n",
    "- detect queries for which the LLM gave bad responses\n",
    "- detect failures to retrieve relevant context\n",
    "\n",
    "In this tutorial, you will:\n",
    "\n",
    "- Load pre-built knowledge data into a Milvus vector store on Zilliz Cloud\n",
    "- Download a pre-indexed knowledge base of the Arize documentation and run a LlamaIndex application\n",
    "- Visualize user queries and knowledge base documents to identify areas of user interest not answered by your documentation\n",
    "- Find clusters of responses with negative user feedback\n",
    "- Identify failed retrievals using cosine similarity, Euclidean distance, and LLM-assisted ranking metrics\n",
    "\n",
    "\n",
    "## Chatbot Architecture\n",
    "\n",
    "Your chatbot was built using LlamaIndex's low-level API. The architecture of your chatbot is shown below and can be explained in five steps.\n",
    "\n",
    "![llama-index chatbot architecture](http://storage.googleapis.com/arize-assets/phoenix/assets/docs/notebooks/llama-index-knowledge-base-tutorial/llama_index_chatbot_architecture.png)\n",
    "\n",
    "1. The user sends a query about Arize to your service.\n",
    "1. `langchain.embeddings.OpenAIEmbeddings` makes a request to the OpenAI embeddings API to embed the user query using the `text-embedding-ada-002` model.\n",
    "1. `llama_index.retrievers.RetrieverQueryEngine` does a similarity search against the entries of your index knowledge base for the two most similar pieces of context by cosine similarity.\n",
    "1. `llama_index.indices.query.ResponseSynthesizer` generates a response by formatting the query and retrieved context into a single prompt and sending a request to OpenAI chat completions API with the `gpt-3.5-turbo`.\n",
    "2. The response is returned to the user.\n",
    "\n",
    "Phoenix makes your search and retrieval system *observable* by capturing the inputs and outputs of these steps for analysis, including:\n",
    "\n",
    "- your query embeddings\n",
    "- the retrieved context and similarity scores for each query\n",
    "- the generated response that is return to the user\n",
    "\n",
    "With that overview in mind, let's dive into the notebook."
   ]
  },
  {
   "cell_type": "markdown",
   "metadata": {
    "id": "l3qXam7rSWSy"
   },
   "source": [
    "## 1. Install Dependencies and Import Libraries"
   ]
  },
  {
   "cell_type": "markdown",
   "metadata": {
    "id": "HXJ6OHBsYubW"
   },
   "source": [
    "Install Phoenix, LlamaIndex, and Milvus"
   ]
  },
  {
   "cell_type": "code",
   "execution_count": 1,
   "metadata": {},
   "outputs": [
    {
     "name": "stdout",
     "output_type": "stream",
     "text": [
      "Collecting gcsfs\n",
      "  Obtaining dependency information for gcsfs from https://files.pythonhosted.org/packages/f5/a1/8c9a25281afb9c1273c6df1acbbd2d8894a8d492c2ad33ca7f780794f04a/gcsfs-2023.10.0-py2.py3-none-any.whl.metadata\n",
      "  Using cached gcsfs-2023.10.0-py2.py3-none-any.whl.metadata (1.6 kB)\n",
      "Requirement already satisfied: langchain>=0.0.334 in /Users/djdaniels/.local/share/virtualenvs/jupyter-byZSjI24/lib/python3.11/site-packages (0.0.341)\n",
      "Collecting arize-phoenix[experimental,llama-index]\n",
      "  Obtaining dependency information for arize-phoenix[experimental,llama-index] from https://files.pythonhosted.org/packages/ba/16/7fdc59d909d6d44aa49cfd7f20ca38b34d6084fa69346f7ac66ebe04f18a/arize_phoenix-1.2.1-py3-none-any.whl.metadata\n",
      "  Using cached arize_phoenix-1.2.1-py3-none-any.whl.metadata (26 kB)\n",
      "Requirement already satisfied: openai>=1 in /Users/djdaniels/.local/share/virtualenvs/jupyter-byZSjI24/lib/python3.11/site-packages (1.3.5)\n",
      "Requirement already satisfied: aiohttp!=4.0.0a0,!=4.0.0a1 in /Users/djdaniels/.local/share/virtualenvs/jupyter-byZSjI24/lib/python3.11/site-packages (from gcsfs) (3.9.1)\n",
      "Requirement already satisfied: decorator>4.1.2 in /Users/djdaniels/.local/share/virtualenvs/jupyter-byZSjI24/lib/python3.11/site-packages (from gcsfs) (5.1.1)\n",
      "Requirement already satisfied: fsspec==2023.10.0 in /Users/djdaniels/.local/share/virtualenvs/jupyter-byZSjI24/lib/python3.11/site-packages (from gcsfs) (2023.10.0)\n",
      "Requirement already satisfied: google-auth>=1.2 in /Users/djdaniels/.local/share/virtualenvs/jupyter-byZSjI24/lib/python3.11/site-packages (from gcsfs) (2.23.4)\n",
      "Requirement already satisfied: google-auth-oauthlib in /Users/djdaniels/.local/share/virtualenvs/jupyter-byZSjI24/lib/python3.11/site-packages (from gcsfs) (1.1.0)\n",
      "Collecting google-cloud-storage (from gcsfs)\n",
      "  Obtaining dependency information for google-cloud-storage from https://files.pythonhosted.org/packages/04/72/71b1b531cefa1daff8f6a2a70b4d4fa18dd4da851b5486d53578811b0838/google_cloud_storage-2.13.0-py2.py3-none-any.whl.metadata\n",
      "  Using cached google_cloud_storage-2.13.0-py2.py3-none-any.whl.metadata (6.1 kB)\n",
      "Requirement already satisfied: requests in /Users/djdaniels/.local/share/virtualenvs/jupyter-byZSjI24/lib/python3.11/site-packages (from gcsfs) (2.31.0)\n",
      "Requirement already satisfied: PyYAML>=5.3 in /Users/djdaniels/.local/share/virtualenvs/jupyter-byZSjI24/lib/python3.11/site-packages (from langchain>=0.0.334) (6.0.1)\n",
      "Requirement already satisfied: SQLAlchemy<3,>=1.4 in /Users/djdaniels/.local/share/virtualenvs/jupyter-byZSjI24/lib/python3.11/site-packages (from langchain>=0.0.334) (2.0.23)\n",
      "Requirement already satisfied: anyio<4.0 in /Users/djdaniels/.local/share/virtualenvs/jupyter-byZSjI24/lib/python3.11/site-packages (from langchain>=0.0.334) (3.7.1)\n",
      "Requirement already satisfied: dataclasses-json<0.7,>=0.5.7 in /Users/djdaniels/.local/share/virtualenvs/jupyter-byZSjI24/lib/python3.11/site-packages (from langchain>=0.0.334) (0.6.3)\n",
      "Requirement already satisfied: jsonpatch<2.0,>=1.33 in /Users/djdaniels/.local/share/virtualenvs/jupyter-byZSjI24/lib/python3.11/site-packages (from langchain>=0.0.334) (1.33)\n",
      "Requirement already satisfied: langchain-core<0.0.7,>=0.0.6 in /Users/djdaniels/.local/share/virtualenvs/jupyter-byZSjI24/lib/python3.11/site-packages (from langchain>=0.0.334) (0.0.6)\n",
      "Requirement already satisfied: langsmith<0.1.0,>=0.0.63 in /Users/djdaniels/.local/share/virtualenvs/jupyter-byZSjI24/lib/python3.11/site-packages (from langchain>=0.0.334) (0.0.66)\n",
      "Requirement already satisfied: numpy<2,>=1 in /Users/djdaniels/.local/share/virtualenvs/jupyter-byZSjI24/lib/python3.11/site-packages (from langchain>=0.0.334) (1.25.2)\n",
      "Requirement already satisfied: pydantic<3,>=1 in /Users/djdaniels/.local/share/virtualenvs/jupyter-byZSjI24/lib/python3.11/site-packages (from langchain>=0.0.334) (2.5.2)\n",
      "Requirement already satisfied: tenacity<9.0.0,>=8.1.0 in /Users/djdaniels/.local/share/virtualenvs/jupyter-byZSjI24/lib/python3.11/site-packages (from langchain>=0.0.334) (8.2.3)\n",
      "Requirement already satisfied: ddsketch in /Users/djdaniels/.local/share/virtualenvs/jupyter-byZSjI24/lib/python3.11/site-packages (from arize-phoenix[experimental,llama-index]) (2.0.4)\n",
      "Requirement already satisfied: hdbscan<1.0.0,>=0.8.33 in /Users/djdaniels/.local/share/virtualenvs/jupyter-byZSjI24/lib/python3.11/site-packages (from arize-phoenix[experimental,llama-index]) (0.8.33)\n",
      "Requirement already satisfied: jinja2 in /Users/djdaniels/.local/share/virtualenvs/jupyter-byZSjI24/lib/python3.11/site-packages (from arize-phoenix[experimental,llama-index]) (3.1.2)\n",
      "Requirement already satisfied: pandas in /Users/djdaniels/.local/share/virtualenvs/jupyter-byZSjI24/lib/python3.11/site-packages (from arize-phoenix[experimental,llama-index]) (2.1.0)\n",
      "Requirement already satisfied: protobuf<5.0,>=3.20 in /Users/djdaniels/.local/share/virtualenvs/jupyter-byZSjI24/lib/python3.11/site-packages (from arize-phoenix[experimental,llama-index]) (4.25.1)\n",
      "Requirement already satisfied: psutil in /Users/djdaniels/.local/share/virtualenvs/jupyter-byZSjI24/lib/python3.11/site-packages (from arize-phoenix[experimental,llama-index]) (5.9.5)\n",
      "Requirement already satisfied: pyarrow in /Users/djdaniels/.local/share/virtualenvs/jupyter-byZSjI24/lib/python3.11/site-packages (from arize-phoenix[experimental,llama-index]) (14.0.1)\n",
      "Requirement already satisfied: scikit-learn<1.3.0 in /Users/djdaniels/.local/share/virtualenvs/jupyter-byZSjI24/lib/python3.11/site-packages (from arize-phoenix[experimental,llama-index]) (1.2.2)\n",
      "Requirement already satisfied: scipy in /Users/djdaniels/.local/share/virtualenvs/jupyter-byZSjI24/lib/python3.11/site-packages (from arize-phoenix[experimental,llama-index]) (1.11.2)\n",
      "Requirement already satisfied: sortedcontainers in /Users/djdaniels/.local/share/virtualenvs/jupyter-byZSjI24/lib/python3.11/site-packages (from arize-phoenix[experimental,llama-index]) (2.4.0)\n",
      "Requirement already satisfied: starlette in /Users/djdaniels/.local/share/virtualenvs/jupyter-byZSjI24/lib/python3.11/site-packages (from arize-phoenix[experimental,llama-index]) (0.32.0.post1)\n",
      "Requirement already satisfied: strawberry-graphql==0.208.2 in /Users/djdaniels/.local/share/virtualenvs/jupyter-byZSjI24/lib/python3.11/site-packages (from arize-phoenix[experimental,llama-index]) (0.208.2)\n",
      "Requirement already satisfied: typing-extensions in /Users/djdaniels/.local/share/virtualenvs/jupyter-byZSjI24/lib/python3.11/site-packages (from arize-phoenix[experimental,llama-index]) (4.7.1)\n",
      "Requirement already satisfied: umap-learn in /Users/djdaniels/.local/share/virtualenvs/jupyter-byZSjI24/lib/python3.11/site-packages (from arize-phoenix[experimental,llama-index]) (0.5.5)\n",
      "Requirement already satisfied: uvicorn in /Users/djdaniels/.local/share/virtualenvs/jupyter-byZSjI24/lib/python3.11/site-packages (from arize-phoenix[experimental,llama-index]) (0.24.0.post1)\n",
      "Requirement already satisfied: wrapt in /Users/djdaniels/.local/share/virtualenvs/jupyter-byZSjI24/lib/python3.11/site-packages (from arize-phoenix[experimental,llama-index]) (1.16.0)\n",
      "Requirement already satisfied: llama-index~=0.9.0 in /Users/djdaniels/.local/share/virtualenvs/jupyter-byZSjI24/lib/python3.11/site-packages (from arize-phoenix[experimental,llama-index]) (0.9.8.post1)\n",
      "Requirement already satisfied: graphql-core<3.3.0,>=3.2.0 in /Users/djdaniels/.local/share/virtualenvs/jupyter-byZSjI24/lib/python3.11/site-packages (from strawberry-graphql==0.208.2->arize-phoenix[experimental,llama-index]) (3.2.3)\n",
      "Requirement already satisfied: python-dateutil<3.0.0,>=2.7.0 in /Users/djdaniels/.local/share/virtualenvs/jupyter-byZSjI24/lib/python3.11/site-packages (from strawberry-graphql==0.208.2->arize-phoenix[experimental,llama-index]) (2.8.2)\n",
      "Requirement already satisfied: distro<2,>=1.7.0 in /Users/djdaniels/.local/share/virtualenvs/jupyter-byZSjI24/lib/python3.11/site-packages (from openai>=1) (1.8.0)\n",
      "Requirement already satisfied: httpx<1,>=0.23.0 in /Users/djdaniels/.local/share/virtualenvs/jupyter-byZSjI24/lib/python3.11/site-packages (from openai>=1) (0.25.2)\n",
      "Requirement already satisfied: tqdm>4 in /Users/djdaniels/.local/share/virtualenvs/jupyter-byZSjI24/lib/python3.11/site-packages (from openai>=1) (4.66.1)\n",
      "Requirement already satisfied: attrs>=17.3.0 in /Users/djdaniels/.local/share/virtualenvs/jupyter-byZSjI24/lib/python3.11/site-packages (from aiohttp!=4.0.0a0,!=4.0.0a1->gcsfs) (23.1.0)\n",
      "Requirement already satisfied: multidict<7.0,>=4.5 in /Users/djdaniels/.local/share/virtualenvs/jupyter-byZSjI24/lib/python3.11/site-packages (from aiohttp!=4.0.0a0,!=4.0.0a1->gcsfs) (6.0.4)\n",
      "Requirement already satisfied: yarl<2.0,>=1.0 in /Users/djdaniels/.local/share/virtualenvs/jupyter-byZSjI24/lib/python3.11/site-packages (from aiohttp!=4.0.0a0,!=4.0.0a1->gcsfs) (1.9.3)\n",
      "Requirement already satisfied: frozenlist>=1.1.1 in /Users/djdaniels/.local/share/virtualenvs/jupyter-byZSjI24/lib/python3.11/site-packages (from aiohttp!=4.0.0a0,!=4.0.0a1->gcsfs) (1.4.0)\n",
      "Requirement already satisfied: aiosignal>=1.1.2 in /Users/djdaniels/.local/share/virtualenvs/jupyter-byZSjI24/lib/python3.11/site-packages (from aiohttp!=4.0.0a0,!=4.0.0a1->gcsfs) (1.3.1)\n",
      "Requirement already satisfied: idna>=2.8 in /Users/djdaniels/.local/share/virtualenvs/jupyter-byZSjI24/lib/python3.11/site-packages (from anyio<4.0->langchain>=0.0.334) (3.4)\n",
      "Requirement already satisfied: sniffio>=1.1 in /Users/djdaniels/.local/share/virtualenvs/jupyter-byZSjI24/lib/python3.11/site-packages (from anyio<4.0->langchain>=0.0.334) (1.3.0)\n",
      "Requirement already satisfied: marshmallow<4.0.0,>=3.18.0 in /Users/djdaniels/.local/share/virtualenvs/jupyter-byZSjI24/lib/python3.11/site-packages (from dataclasses-json<0.7,>=0.5.7->langchain>=0.0.334) (3.20.1)\n",
      "Requirement already satisfied: typing-inspect<1,>=0.4.0 in /Users/djdaniels/.local/share/virtualenvs/jupyter-byZSjI24/lib/python3.11/site-packages (from dataclasses-json<0.7,>=0.5.7->langchain>=0.0.334) (0.9.0)\n",
      "Requirement already satisfied: cachetools<6.0,>=2.0.0 in /Users/djdaniels/.local/share/virtualenvs/jupyter-byZSjI24/lib/python3.11/site-packages (from google-auth>=1.2->gcsfs) (5.3.2)\n",
      "Requirement already satisfied: pyasn1-modules>=0.2.1 in /Users/djdaniels/.local/share/virtualenvs/jupyter-byZSjI24/lib/python3.11/site-packages (from google-auth>=1.2->gcsfs) (0.3.0)\n",
      "Requirement already satisfied: rsa<5,>=3.1.4 in /Users/djdaniels/.local/share/virtualenvs/jupyter-byZSjI24/lib/python3.11/site-packages (from google-auth>=1.2->gcsfs) (4.9)\n",
      "Requirement already satisfied: cython<3,>=0.27 in /Users/djdaniels/.local/share/virtualenvs/jupyter-byZSjI24/lib/python3.11/site-packages (from hdbscan<1.0.0,>=0.8.33->arize-phoenix[experimental,llama-index]) (0.29.36)\n",
      "Requirement already satisfied: joblib>=1.0 in /Users/djdaniels/.local/share/virtualenvs/jupyter-byZSjI24/lib/python3.11/site-packages (from hdbscan<1.0.0,>=0.8.33->arize-phoenix[experimental,llama-index]) (1.3.2)\n",
      "Requirement already satisfied: certifi in /Users/djdaniels/.local/share/virtualenvs/jupyter-byZSjI24/lib/python3.11/site-packages (from httpx<1,>=0.23.0->openai>=1) (2023.7.22)\n",
      "Requirement already satisfied: httpcore==1.* in /Users/djdaniels/.local/share/virtualenvs/jupyter-byZSjI24/lib/python3.11/site-packages (from httpx<1,>=0.23.0->openai>=1) (1.0.2)\n",
      "Requirement already satisfied: h11<0.15,>=0.13 in /Users/djdaniels/.local/share/virtualenvs/jupyter-byZSjI24/lib/python3.11/site-packages (from httpcore==1.*->httpx<1,>=0.23.0->openai>=1) (0.14.0)\n",
      "Requirement already satisfied: jsonpointer>=1.9 in /Users/djdaniels/.local/share/virtualenvs/jupyter-byZSjI24/lib/python3.11/site-packages (from jsonpatch<2.0,>=1.33->langchain>=0.0.334) (2.4)\n",
      "Requirement already satisfied: aiostream<0.6.0,>=0.5.2 in /Users/djdaniels/.local/share/virtualenvs/jupyter-byZSjI24/lib/python3.11/site-packages (from llama-index~=0.9.0->arize-phoenix[experimental,llama-index]) (0.5.2)\n",
      "Requirement already satisfied: beautifulsoup4<5.0.0,>=4.12.2 in /Users/djdaniels/.local/share/virtualenvs/jupyter-byZSjI24/lib/python3.11/site-packages (from llama-index~=0.9.0->arize-phoenix[experimental,llama-index]) (4.12.2)\n",
      "Requirement already satisfied: deprecated>=1.2.9.3 in /Users/djdaniels/.local/share/virtualenvs/jupyter-byZSjI24/lib/python3.11/site-packages (from llama-index~=0.9.0->arize-phoenix[experimental,llama-index]) (1.2.14)\n",
      "Requirement already satisfied: nest-asyncio<2.0.0,>=1.5.8 in /Users/djdaniels/.local/share/virtualenvs/jupyter-byZSjI24/lib/python3.11/site-packages (from llama-index~=0.9.0->arize-phoenix[experimental,llama-index]) (1.5.8)\n",
      "Requirement already satisfied: nltk<4.0.0,>=3.8.1 in /Users/djdaniels/.local/share/virtualenvs/jupyter-byZSjI24/lib/python3.11/site-packages (from llama-index~=0.9.0->arize-phoenix[experimental,llama-index]) (3.8.1)\n",
      "Requirement already satisfied: tiktoken>=0.3.3 in /Users/djdaniels/.local/share/virtualenvs/jupyter-byZSjI24/lib/python3.11/site-packages (from llama-index~=0.9.0->arize-phoenix[experimental,llama-index]) (0.5.1)\n",
      "Requirement already satisfied: annotated-types>=0.4.0 in /Users/djdaniels/.local/share/virtualenvs/jupyter-byZSjI24/lib/python3.11/site-packages (from pydantic<3,>=1->langchain>=0.0.334) (0.6.0)\n",
      "Requirement already satisfied: pydantic-core==2.14.5 in /Users/djdaniels/.local/share/virtualenvs/jupyter-byZSjI24/lib/python3.11/site-packages (from pydantic<3,>=1->langchain>=0.0.334) (2.14.5)\n",
      "Requirement already satisfied: charset-normalizer<4,>=2 in /Users/djdaniels/.local/share/virtualenvs/jupyter-byZSjI24/lib/python3.11/site-packages (from requests->gcsfs) (3.2.0)\n",
      "Requirement already satisfied: urllib3<3,>=1.21.1 in /Users/djdaniels/.local/share/virtualenvs/jupyter-byZSjI24/lib/python3.11/site-packages (from requests->gcsfs) (2.0.4)\n",
      "Requirement already satisfied: threadpoolctl>=2.0.0 in /Users/djdaniels/.local/share/virtualenvs/jupyter-byZSjI24/lib/python3.11/site-packages (from scikit-learn<1.3.0->arize-phoenix[experimental,llama-index]) (3.2.0)\n",
      "Requirement already satisfied: six in /Users/djdaniels/.local/share/virtualenvs/jupyter-byZSjI24/lib/python3.11/site-packages (from ddsketch->arize-phoenix[experimental,llama-index]) (1.16.0)\n",
      "Requirement already satisfied: requests-oauthlib>=0.7.0 in /Users/djdaniels/.local/share/virtualenvs/jupyter-byZSjI24/lib/python3.11/site-packages (from google-auth-oauthlib->gcsfs) (1.3.1)\n",
      "Requirement already satisfied: google-api-core!=2.0.*,!=2.1.*,!=2.2.*,!=2.3.0,<3.0.0dev,>=1.31.5 in /Users/djdaniels/.local/share/virtualenvs/jupyter-byZSjI24/lib/python3.11/site-packages (from google-cloud-storage->gcsfs) (2.14.0)\n",
      "Requirement already satisfied: google-cloud-core<3.0dev,>=2.3.0 in /Users/djdaniels/.local/share/virtualenvs/jupyter-byZSjI24/lib/python3.11/site-packages (from google-cloud-storage->gcsfs) (2.3.3)\n",
      "Requirement already satisfied: google-resumable-media>=2.6.0 in /Users/djdaniels/.local/share/virtualenvs/jupyter-byZSjI24/lib/python3.11/site-packages (from google-cloud-storage->gcsfs) (2.6.0)\n",
      "Requirement already satisfied: google-crc32c<2.0dev,>=1.0 in /Users/djdaniels/.local/share/virtualenvs/jupyter-byZSjI24/lib/python3.11/site-packages (from google-cloud-storage->gcsfs) (1.5.0)\n",
      "Requirement already satisfied: MarkupSafe>=2.0 in /Users/djdaniels/.local/share/virtualenvs/jupyter-byZSjI24/lib/python3.11/site-packages (from jinja2->arize-phoenix[experimental,llama-index]) (2.1.3)\n",
      "Requirement already satisfied: pytz>=2020.1 in /Users/djdaniels/.local/share/virtualenvs/jupyter-byZSjI24/lib/python3.11/site-packages (from pandas->arize-phoenix[experimental,llama-index]) (2023.3.post1)\n",
      "Requirement already satisfied: tzdata>=2022.1 in /Users/djdaniels/.local/share/virtualenvs/jupyter-byZSjI24/lib/python3.11/site-packages (from pandas->arize-phoenix[experimental,llama-index]) (2023.3)\n",
      "Requirement already satisfied: numba>=0.51.2 in /Users/djdaniels/.local/share/virtualenvs/jupyter-byZSjI24/lib/python3.11/site-packages (from umap-learn->arize-phoenix[experimental,llama-index]) (0.58.1)\n",
      "Requirement already satisfied: pynndescent>=0.5 in /Users/djdaniels/.local/share/virtualenvs/jupyter-byZSjI24/lib/python3.11/site-packages (from umap-learn->arize-phoenix[experimental,llama-index]) (0.5.11)\n",
      "Requirement already satisfied: click>=7.0 in /Users/djdaniels/.local/share/virtualenvs/jupyter-byZSjI24/lib/python3.11/site-packages (from uvicorn->arize-phoenix[experimental,llama-index]) (8.1.7)\n",
      "Requirement already satisfied: soupsieve>1.2 in /Users/djdaniels/.local/share/virtualenvs/jupyter-byZSjI24/lib/python3.11/site-packages (from beautifulsoup4<5.0.0,>=4.12.2->llama-index~=0.9.0->arize-phoenix[experimental,llama-index]) (2.5)\n",
      "Requirement already satisfied: googleapis-common-protos<2.0.dev0,>=1.56.2 in /Users/djdaniels/.local/share/virtualenvs/jupyter-byZSjI24/lib/python3.11/site-packages (from google-api-core!=2.0.*,!=2.1.*,!=2.2.*,!=2.3.0,<3.0.0dev,>=1.31.5->google-cloud-storage->gcsfs) (1.61.0)\n",
      "Requirement already satisfied: packaging>=17.0 in /Users/djdaniels/.local/share/virtualenvs/jupyter-byZSjI24/lib/python3.11/site-packages (from marshmallow<4.0.0,>=3.18.0->dataclasses-json<0.7,>=0.5.7->langchain>=0.0.334) (23.1)\n",
      "Requirement already satisfied: regex>=2021.8.3 in /Users/djdaniels/.local/share/virtualenvs/jupyter-byZSjI24/lib/python3.11/site-packages (from nltk<4.0.0,>=3.8.1->llama-index~=0.9.0->arize-phoenix[experimental,llama-index]) (2023.10.3)\n",
      "Requirement already satisfied: llvmlite<0.42,>=0.41.0dev0 in /Users/djdaniels/.local/share/virtualenvs/jupyter-byZSjI24/lib/python3.11/site-packages (from numba>=0.51.2->umap-learn->arize-phoenix[experimental,llama-index]) (0.41.1)\n",
      "Requirement already satisfied: pyasn1<0.6.0,>=0.4.6 in /Users/djdaniels/.local/share/virtualenvs/jupyter-byZSjI24/lib/python3.11/site-packages (from pyasn1-modules>=0.2.1->google-auth>=1.2->gcsfs) (0.5.1)\n",
      "Requirement already satisfied: oauthlib>=3.0.0 in /Users/djdaniels/.local/share/virtualenvs/jupyter-byZSjI24/lib/python3.11/site-packages (from requests-oauthlib>=0.7.0->google-auth-oauthlib->gcsfs) (3.2.2)\n",
      "Requirement already satisfied: greenlet!=0.4.17 in /Users/djdaniels/.local/share/virtualenvs/jupyter-byZSjI24/lib/python3.11/site-packages (from SQLAlchemy<3,>=1.4->langchain>=0.0.334) (3.0.1)\n",
      "Requirement already satisfied: mypy-extensions>=0.3.0 in /Users/djdaniels/.local/share/virtualenvs/jupyter-byZSjI24/lib/python3.11/site-packages (from typing-inspect<1,>=0.4.0->dataclasses-json<0.7,>=0.5.7->langchain>=0.0.334) (1.0.0)\n",
      "Using cached gcsfs-2023.10.0-py2.py3-none-any.whl (33 kB)\n",
      "Using cached arize_phoenix-1.2.1-py3-none-any.whl (1.2 MB)\n",
      "Using cached google_cloud_storage-2.13.0-py2.py3-none-any.whl (121 kB)\n",
      "Installing collected packages: google-cloud-storage, arize-phoenix, gcsfs\n",
      "Successfully installed arize-phoenix-1.2.1 gcsfs-2023.10.0 google-cloud-storage-2.13.0\n",
      "\n",
      "\u001b[1m[\u001b[0m\u001b[34;49mnotice\u001b[0m\u001b[1;39;49m]\u001b[0m\u001b[39;49m A new release of pip is available: \u001b[0m\u001b[31;49m23.2.1\u001b[0m\u001b[39;49m -> \u001b[0m\u001b[32;49m23.3.1\u001b[0m\n",
      "\u001b[1m[\u001b[0m\u001b[34;49mnotice\u001b[0m\u001b[1;39;49m]\u001b[0m\u001b[39;49m To update, run: \u001b[0m\u001b[32;49mpip install --upgrade pip\u001b[0m\n"
     ]
    }
   ],
   "source": [
    "!pip install gcsfs \"langchain>=0.0.334\" \"arize-phoenix[experimental,llama-index]\" \"openai>=1\""
   ]
  },
  {
   "cell_type": "code",
   "execution_count": 2,
   "metadata": {},
   "outputs": [
    {
     "name": "stdout",
     "output_type": "stream",
     "text": [
      "Collecting pymilvus==2.2.15\n",
      "  Obtaining dependency information for pymilvus==2.2.15 from https://files.pythonhosted.org/packages/4a/66/ccb86f25007bb7096e6f45dfeea4b33f128492e73afb172e2e602f020539/pymilvus-2.2.15-py3-none-any.whl.metadata\n",
      "  Downloading pymilvus-2.2.15-py3-none-any.whl.metadata (4.1 kB)\n",
      "Collecting grpcio<=1.56.0,>=1.49.1 (from pymilvus==2.2.15)\n",
      "  Obtaining dependency information for grpcio<=1.56.0,>=1.49.1 from https://files.pythonhosted.org/packages/92/2a/89c961495127c0af765aa3cf7f0e2b36ff360802ce8a7281e1bd87da1572/grpcio-1.56.0-cp311-cp311-macosx_10_10_universal2.whl.metadata\n",
      "  Downloading grpcio-1.56.0-cp311-cp311-macosx_10_10_universal2.whl.metadata (4.0 kB)\n",
      "Requirement already satisfied: protobuf>=3.20.0 in /Users/djdaniels/.local/share/virtualenvs/jupyter-byZSjI24/lib/python3.11/site-packages (from pymilvus==2.2.15) (4.25.1)\n",
      "Requirement already satisfied: environs<=9.5.0 in /Users/djdaniels/.local/share/virtualenvs/jupyter-byZSjI24/lib/python3.11/site-packages (from pymilvus==2.2.15) (9.5.0)\n",
      "Requirement already satisfied: ujson>=2.0.0 in /Users/djdaniels/.local/share/virtualenvs/jupyter-byZSjI24/lib/python3.11/site-packages (from pymilvus==2.2.15) (5.8.0)\n",
      "Requirement already satisfied: pandas>=1.2.4 in /Users/djdaniels/.local/share/virtualenvs/jupyter-byZSjI24/lib/python3.11/site-packages (from pymilvus==2.2.15) (2.1.0)\n",
      "Requirement already satisfied: marshmallow>=3.0.0 in /Users/djdaniels/.local/share/virtualenvs/jupyter-byZSjI24/lib/python3.11/site-packages (from environs<=9.5.0->pymilvus==2.2.15) (3.20.1)\n",
      "Requirement already satisfied: python-dotenv in /Users/djdaniels/.local/share/virtualenvs/jupyter-byZSjI24/lib/python3.11/site-packages (from environs<=9.5.0->pymilvus==2.2.15) (1.0.0)\n",
      "Requirement already satisfied: numpy>=1.23.2 in /Users/djdaniels/.local/share/virtualenvs/jupyter-byZSjI24/lib/python3.11/site-packages (from pandas>=1.2.4->pymilvus==2.2.15) (1.25.2)\n",
      "Requirement already satisfied: python-dateutil>=2.8.2 in /Users/djdaniels/.local/share/virtualenvs/jupyter-byZSjI24/lib/python3.11/site-packages (from pandas>=1.2.4->pymilvus==2.2.15) (2.8.2)\n",
      "Requirement already satisfied: pytz>=2020.1 in /Users/djdaniels/.local/share/virtualenvs/jupyter-byZSjI24/lib/python3.11/site-packages (from pandas>=1.2.4->pymilvus==2.2.15) (2023.3.post1)\n",
      "Requirement already satisfied: tzdata>=2022.1 in /Users/djdaniels/.local/share/virtualenvs/jupyter-byZSjI24/lib/python3.11/site-packages (from pandas>=1.2.4->pymilvus==2.2.15) (2023.3)\n",
      "Requirement already satisfied: packaging>=17.0 in /Users/djdaniels/.local/share/virtualenvs/jupyter-byZSjI24/lib/python3.11/site-packages (from marshmallow>=3.0.0->environs<=9.5.0->pymilvus==2.2.15) (23.1)\n",
      "Requirement already satisfied: six>=1.5 in /Users/djdaniels/.local/share/virtualenvs/jupyter-byZSjI24/lib/python3.11/site-packages (from python-dateutil>=2.8.2->pandas>=1.2.4->pymilvus==2.2.15) (1.16.0)\n",
      "Downloading pymilvus-2.2.15-py3-none-any.whl (147 kB)\n",
      "\u001b[2K   \u001b[38;2;114;156;31m━━━━━━━━━━━━━━━━━━━━━━━━━━━━━━━━━━━━━━━━\u001b[0m \u001b[32m147.7/147.7 kB\u001b[0m \u001b[31m6.3 MB/s\u001b[0m eta \u001b[36m0:00:00\u001b[0m\n",
      "\u001b[?25hDownloading grpcio-1.56.0-cp311-cp311-macosx_10_10_universal2.whl (8.9 MB)\n",
      "\u001b[2K   \u001b[38;2;114;156;31m━━━━━━━━━━━━━━━━━━━━━━━━━━━━━━━━━━━━━━━━\u001b[0m \u001b[32m8.9/8.9 MB\u001b[0m \u001b[31m18.1 MB/s\u001b[0m eta \u001b[36m0:00:00\u001b[0m31m17.8 MB/s\u001b[0m eta \u001b[36m0:00:01\u001b[0m\n",
      "\u001b[?25hInstalling collected packages: grpcio, pymilvus\n",
      "  Attempting uninstall: grpcio\n",
      "    Found existing installation: grpcio 1.58.0\n",
      "    Uninstalling grpcio-1.58.0:\n",
      "      Successfully uninstalled grpcio-1.58.0\n",
      "  Attempting uninstall: pymilvus\n",
      "    Found existing installation: pymilvus 2.3.3\n",
      "    Uninstalling pymilvus-2.3.3:\n",
      "      Successfully uninstalled pymilvus-2.3.3\n",
      "Successfully installed grpcio-1.56.0 pymilvus-2.2.15\n",
      "\n",
      "\u001b[1m[\u001b[0m\u001b[34;49mnotice\u001b[0m\u001b[1;39;49m]\u001b[0m\u001b[39;49m A new release of pip is available: \u001b[0m\u001b[31;49m23.2.1\u001b[0m\u001b[39;49m -> \u001b[0m\u001b[32;49m23.3.1\u001b[0m\n",
      "\u001b[1m[\u001b[0m\u001b[34;49mnotice\u001b[0m\u001b[1;39;49m]\u001b[0m\u001b[39;49m To update, run: \u001b[0m\u001b[32;49mpip install --upgrade pip\u001b[0m\n",
      "Collecting grpcio==1.56.0\n",
      "  Obtaining dependency information for grpcio==1.56.0 from https://files.pythonhosted.org/packages/92/2a/89c961495127c0af765aa3cf7f0e2b36ff360802ce8a7281e1bd87da1572/grpcio-1.56.0-cp311-cp311-macosx_10_10_universal2.whl.metadata\n",
      "  Using cached grpcio-1.56.0-cp311-cp311-macosx_10_10_universal2.whl.metadata (4.0 kB)\n",
      "Using cached grpcio-1.56.0-cp311-cp311-macosx_10_10_universal2.whl (8.9 MB)\n",
      "Installing collected packages: grpcio\n",
      "  Attempting uninstall: grpcio\n",
      "    Found existing installation: grpcio 1.56.0\n",
      "    Uninstalling grpcio-1.56.0:\n",
      "      Successfully uninstalled grpcio-1.56.0\n",
      "Successfully installed grpcio-1.56.0\n",
      "\n",
      "\u001b[1m[\u001b[0m\u001b[34;49mnotice\u001b[0m\u001b[1;39;49m]\u001b[0m\u001b[39;49m A new release of pip is available: \u001b[0m\u001b[31;49m23.2.1\u001b[0m\u001b[39;49m -> \u001b[0m\u001b[32;49m23.3.1\u001b[0m\n",
      "\u001b[1m[\u001b[0m\u001b[34;49mnotice\u001b[0m\u001b[1;39;49m]\u001b[0m\u001b[39;49m To update, run: \u001b[0m\u001b[32;49mpip install --upgrade pip\u001b[0m\n"
     ]
    }
   ],
   "source": [
    "!pip install pymilvus==2.2.15\n",
    "!pip install --upgrade --force-reinstall grpcio==1.56.0"
   ]
  },
  {
   "cell_type": "markdown",
   "metadata": {
    "id": "KS2ONAM3Y1XD"
   },
   "source": [
    "###**Please restart your runtime here. Colab grpc version might cause issues during import.**"
   ]
  },
  {
   "cell_type": "markdown",
   "metadata": {
    "id": "KZpntsbPSWSz"
   },
   "source": [
    "Import the necessary libraries"
   ]
  },
  {
   "cell_type": "code",
   "execution_count": 1,
   "metadata": {},
   "outputs": [],
   "source": [
    "import json\n",
    "import logging\n",
    "import os\n",
    "import sys\n",
    "import textwrap\n",
    "import urllib.request\n",
    "from datetime import timedelta\n",
    "from getpass import getpass\n",
    "\n",
    "import numpy as np\n",
    "import openai\n",
    "import pandas as pd\n",
    "import phoenix as px\n",
    "from IPython.display import YouTubeVideo\n",
    "from langchain.chat_models import ChatOpenAI\n",
    "from llama_index import (\n",
    "    LLMPredictor,\n",
    "    ServiceContext,\n",
    "    VectorStoreIndex,\n",
    ")\n",
    "from llama_index.callbacks import CallbackManager, OpenInferenceCallbackHandler\n",
    "from llama_index.callbacks.open_inference_callback import as_dataframe\n",
    "from llama_index.embeddings.openai import OpenAIEmbedding\n",
    "from llama_index.schema import NodeRelationship, RelatedNodeInfo, TextNode\n",
    "from llama_index.vector_stores import MilvusVectorStore\n",
    "from llama_index.vector_stores.utils import (\n",
    "    metadata_dict_to_node,\n",
    ")\n",
    "from phoenix.experimental.evals.retrievals import (\n",
    "    classify_relevance,\n",
    "    compute_precisions_at_k,\n",
    ")\n",
    "\n",
    "logging.disable(sys.maxsize)\n",
    "pd.set_option(\"display.max_colwidth\", 1000)"
   ]
  },
  {
   "cell_type": "markdown",
   "metadata": {
    "id": "kkoc1IC1SWSz"
   },
   "source": [
    "## 2. Configure your OpenAI API Key\n",
    "💭 Configure your OpenAI API key."
   ]
  },
  {
   "cell_type": "code",
   "execution_count": null,
   "metadata": {},
   "outputs": [],
   "source": [
    "if not (openai_api_key := os.getenv(\"CHATGPT_API_KEY\")):\n",
    "    openai_api_key = getpass(\"🔑 Enter your OpenAI API key: \")\n",
    "openai.api_key = openai_api_key\n",
    "os.environ[\"CHATGPT_API_KEY\"] = openai_api_key"
   ]
  },
  {
   "cell_type": "markdown",
   "metadata": {
    "id": "HC9YmlPSSWS0"
   },
   "source": [
    "## 3. Download Your Proprietary Data\n",
    "Download your Arize documentation data from cloud storage.\n"
   ]
  },
  {
   "cell_type": "code",
   "execution_count": null,
   "metadata": {},
   "outputs": [],
   "source": [
    "url = \"http://storage.googleapis.com/arize-assets/xander/milvus-workshop/milvus_dataset.json\"\n",
    "\n",
    "with urllib.request.urlopen(url) as response:\n",
    "    buffer = response.read()\n",
    "    data = json.loads(buffer.decode(\"utf-8\"))\n",
    "    rows = data[\"rows\"]"
   ]
  },
  {
   "cell_type": "markdown",
   "metadata": {
    "id": "jv6wN7kYSWS0"
   },
   "source": [
    "## 4. Create your Milvus Vector Store (Knowledge Base) with Zilliz Cloud\n",
    "\n",
    "We will be using Zilliz Cloud and create a knowledge base using Milvus Vector Store. In order to get it running, we need the following steps.\n",
    "\n",
    "1. Go to [Zilliz Cloud](https://cloud.zilliz.com/) and create an account for free.\n",
    "2. Define an organization and project within Zilliz to get started.\n",
    "3. Add a standard cluster to your project. You should have received 100$ free credit on sign-up, so standard cluster will come at no cost for this tutorial.\n",
    "4. Copy/paste your public endpoint and token into the cells below after creating the cluster.\n"
   ]
  },
  {
   "cell_type": "code",
   "execution_count": null,
   "metadata": {},
   "outputs": [],
   "source": [
    "ENDPOINT = getpass(prompt=\"Please set your public endpoint from Zilliz Cloud: \")\n",
    "TOKEN = getpass(prompt=\"Enter your token from Zilliz Cloud: \")"
   ]
  },
  {
   "cell_type": "code",
   "execution_count": null,
   "metadata": {},
   "outputs": [],
   "source": [
    "# Connect to Zilliz Cloud and instantiate a Milvus Vector Store\n",
    "vector_store = MilvusVectorStore(\n",
    "    uri=ENDPOINT,\n",
    "    token=TOKEN,\n",
    "    collection_name=\"colab_collection\",\n",
    "    dim=1536,\n",
    "    embedding_field=\"embedding\",\n",
    "    doc_id_field=\"doc_id\",\n",
    "    overwrite=True,\n",
    ")\n",
    "\n",
    "# Insert the downloaded Arize documentation data to the vector store\n",
    "nodes = []\n",
    "for row in rows:\n",
    "    node = TextNode(\n",
    "        embedding=row[\"embedding\"],\n",
    "        text=row[\"text\"],\n",
    "        id_=row[\"id\"],\n",
    "        relationships={NodeRelationship.SOURCE: RelatedNodeInfo(node_id=row[\"doc_id\"])},\n",
    "    )\n",
    "    nodes.append(node)\n",
    "\n",
    "vector_store.add(nodes)\n",
    "print(\"Successfully added Arize documentation data into the vector store!\")"
   ]
  },
  {
   "cell_type": "markdown",
   "metadata": {
    "id": "TBZpavN4bsg9"
   },
   "source": [
    "## 5. Run Your Question-Answering Service\n",
    "💭 Start a LlamaIndex application from your downloaded index. Use the OpenInferenceCallbackHandler to store your data in OpenInference format, an open standard for capturing and storing AI model inferences that enables production LLMapp servers to seamlessly integrate with LLM observability solutions such as Arize and Phoenix.\n",
    "\n",
    "After starting the application, ask a few questions of your question-answering service and view the responses.\n",
    "\n"
   ]
  },
  {
   "cell_type": "code",
   "execution_count": null,
   "metadata": {},
   "outputs": [],
   "source": [
    "callback_handler = OpenInferenceCallbackHandler()\n",
    "\n",
    "service_context = ServiceContext.from_defaults(\n",
    "    llm_predictor=LLMPredictor(llm=ChatOpenAI(model_name=\"gpt-3.5-turbo\", temperature=0)),\n",
    "    embed_model=OpenAIEmbedding(model=\"text-embedding-ada-002\"),\n",
    "    callback_manager=CallbackManager(handlers=[callback_handler]),\n",
    ")\n",
    "\n",
    "index = VectorStoreIndex.from_vector_store(vector_store, service_context=service_context)\n",
    "\n",
    "query_engine = index.as_query_engine()\n",
    "\n",
    "max_line_length = 80\n",
    "for query in [\n",
    "    \"How do I get an Arize API key?\",\n",
    "    \"Can I create monitors with an API?\",\n",
    "    \"How do I need to format timestamps?\",\n",
    "    \"What is the price of the Arize platform\",\n",
    "]:\n",
    "    print(\"Query\")\n",
    "    print(\"=====\")\n",
    "    print()\n",
    "    print(textwrap.fill(query, max_line_length))\n",
    "    print()\n",
    "    response = query_engine.query(query)\n",
    "    print(\"Response\")\n",
    "    print(\"========\")\n",
    "    print()\n",
    "    print(textwrap.fill(str(response), max_line_length))\n",
    "    print()"
   ]
  },
  {
   "cell_type": "markdown",
   "metadata": {
    "id": "Y3IQgDOtSWS0"
   },
   "source": [
    "## 6. Load Your Data Into Pandas Dataframes\n",
    "\n",
    "\n",
    "To use Phoenix, you must load your data into pandas dataframes.\n",
    "\n",
    "Your query data is saved in a buffer on the callback handler you defined previously. Load the data from the buffer into a dataframe.\n"
   ]
  },
  {
   "cell_type": "code",
   "execution_count": null,
   "metadata": {},
   "outputs": [],
   "source": [
    "query_data_buffer = callback_handler.flush_query_data_buffer()\n",
    "sample_query_df = as_dataframe(query_data_buffer)\n",
    "sample_query_df"
   ]
  },
  {
   "cell_type": "markdown",
   "metadata": {
    "id": "8bLAhaKD8RMw"
   },
   "source": [
    "The columns of the dataframe are:\n",
    "\n",
    "* **:id.id::** the query ID\n",
    "* **:timestamp.iso_8601::** the time at which the query was made\n",
    "* **:feature.text:prompt:** the query text\n",
    "* **:feature.[float].embedding:prompt:** the embedding representation of the query\n",
    "* **:prediction.text:response:** the final response presented to the user\n",
    "* **:feature.[str].retrieved_document_ids:prompt:** the list of IDs of the retrieved documents\n",
    "* **:feature.[float].retrieved_document_scores:prompt:** the lists of cosine similarities between the query and retrieved documents\n",
    "\n",
    "The column names are in OpenInference format and describe the category, data type and intent of each column.\n",
    "\n"
   ]
  },
  {
   "cell_type": "markdown",
   "metadata": {
    "id": "eLbghTsSc9BH"
   },
   "source": [
    "Running queries against a large dataset takes a long time. Download a dataframe containing query data."
   ]
  },
  {
   "cell_type": "code",
   "execution_count": null,
   "metadata": {},
   "outputs": [],
   "source": [
    "query_df = pd.read_parquet(\n",
    "    \"http://storage.googleapis.com/arize-assets/phoenix/datasets/unstructured/llm/llama-index/arize-docs/query_data_complete3.parquet\",\n",
    ")\n",
    "query_df.head()"
   ]
  },
  {
   "cell_type": "markdown",
   "metadata": {
    "id": "jZR7uwBHSWS0"
   },
   "source": [
    "\n",
    "\n",
    "In addition to the columns of the previous dataframe, this data has a few additional fields:\n",
    "\n",
    "* **:tag.float:user_feedback:** approval or rejection from the user (-1 means thumbs down, +1 means thumbs up)\n",
    "* **:tag.str:openai_relevance_0:** a binary classification (relevant vs. irrelevant) by GPT-4 predicting whether the first retrieved document is relevant to the query\n",
    "* **:tag.str:openai_relevance_1:** a binary classification (relevant vs. irrelevant) by GPT-4 predicting whether the second retrieved document is relevant to the query\n",
    "\n",
    "\n",
    "We'll go over how to compute the relevance classifications in section 7.\n",
    "\n",
    "Next load your knowledge base into a dataframe."
   ]
  },
  {
   "cell_type": "code",
   "execution_count": null,
   "metadata": {},
   "outputs": [],
   "source": [
    "# Use vector store client to query the knowledge base and load our knowledge base into a dataframe\n",
    "myclient = vector_store.client\n",
    "document_embeddings, document_ids, document_texts = [], [], []\n",
    "i = 0\n",
    "\n",
    "all_data = myclient.query(collection_name=\"colab_collection\", filter='id >= \"\"')\n",
    "for x in all_data:\n",
    "    node = metadata_dict_to_node({\"_node_content\": all_data[i][\"_node_content\"]})\n",
    "    document_embeddings.append(np.array(x[\"embedding\"]))\n",
    "    document_ids.append(node.hash)\n",
    "    document_texts.append(node.text)\n",
    "    i = i + 1\n",
    "\n",
    "database_df = pd.DataFrame(\n",
    "    {\n",
    "        \"document_id\": document_ids,\n",
    "        \"text\": document_texts,\n",
    "        \"text_vector\": document_embeddings,\n",
    "    }\n",
    ")\n",
    "database_df = database_df[database_df[\"text\"] != \"\\n\"]\n",
    "database_df.head()"
   ]
  },
  {
   "cell_type": "markdown",
   "metadata": {
    "id": "c2tv37jrSWS1"
   },
   "source": [
    "The columns of your dataframe are:\n",
    "\n",
    "- **document_id:** the ID of the chunked document\n",
    "- **text:** the chunked text in your knowledge base\n",
    "- **text_vector:** the embedding vector for the text, computed during the LlamaIndex build using \"text-embedding-ada-002\" from OpenAI\n",
    "\n",
    "The query and database datasets are drawn from different distributions; the queries are short questions while the database entries are several sentences to a paragraph. The embeddings from OpenAI's \"text-embedding-ada-002\" capture these differences and naturally separate the query and context embeddings into distinct regions of the embedding space. When using Phoenix, you want to \"overlay\" the query and context embedding distributions so that queries appear close to their retrieved context in the Phoenix point cloud. To achieve this, we compute a centroid for each dataset that represents an average point in the embedding distribution and center the two distributions so they overlap."
   ]
  },
  {
   "cell_type": "code",
   "execution_count": null,
   "metadata": {},
   "outputs": [],
   "source": [
    "database_embedding_column_name = \"text_vector\"\n",
    "database_centroid = database_df[database_embedding_column_name].mean()\n",
    "database_df[database_embedding_column_name] = database_df[database_embedding_column_name].apply(\n",
    "    lambda x: x - database_centroid\n",
    ")\n",
    "query_embedding_column_name = \":feature.[float].embedding:prompt\"\n",
    "query_centroid = query_df[query_embedding_column_name].mean()\n",
    "query_df[query_embedding_column_name] = query_df[query_embedding_column_name].apply(\n",
    "    lambda x: x - query_centroid\n",
    ")"
   ]
  },
  {
   "cell_type": "markdown",
   "metadata": {
    "id": "fWDdxBElSWS1"
   },
   "source": [
    "## 7. Run LLM-Assisted Evaluations\n",
    "\n",
    "Cosine similarity and Euclidean distance are reasonable proxies for retrieval quality, but they don't always work perfectly. A novel idea is to use LLMs to measure retrieval quality by simply asking the LLM whether each retrieved document is relevant to the corresponding query.\n",
    "\n",
    "💭 Use OpenAI to predict whether each retrieved document is relevant or irrelevant to the query.\n",
    "\n",
    "⚠️ It's strongly recommended to use GPT-4 for evaluations if you have access."
   ]
  },
  {
   "cell_type": "code",
   "execution_count": null,
   "metadata": {},
   "outputs": [],
   "source": [
    "evals_model_name = \"gpt-3.5-turbo\"\n",
    "# evals_model_name = \"gpt-4\"  # use GPT-4 if you have access\n",
    "query_texts = sample_query_df[\":feature.text:prompt\"].tolist()\n",
    "list_of_document_id_lists = sample_query_df[\":feature.[str].retrieved_document_ids:prompt\"].tolist()\n",
    "document_id_to_text = dict(zip(database_df[\"document_id\"].to_list(), database_df[\"text\"].to_list()))\n",
    "doc_texts = []\n",
    "for document_index in [0]:\n",
    "    for document_ids in list_of_document_id_lists:\n",
    "        doc_texts.append(document_id_to_text[document_ids[document_index]])\n",
    "\n",
    "relevance = []\n",
    "for query_text, document_text in zip(query_texts, doc_texts):\n",
    "    relevance.append(classify_relevance(query_text, document_text, evals_model_name))\n",
    "\n",
    "sample_query_df = sample_query_df.assign(\n",
    "    retrieved_document_text_0=doc_texts,\n",
    "    relevance_0=relevance,\n",
    ")\n",
    "sample_query_df[\n",
    "    [\n",
    "        \":feature.text:prompt\",\n",
    "        \"retrieved_document_text_0\",\n",
    "        \"relevance_0\",\n",
    "    ]\n",
    "].rename(columns={\":feature.text:prompt\": \"query_text\"})"
   ]
  },
  {
   "cell_type": "markdown",
   "metadata": {
    "id": "EcC6A04RSWS1"
   },
   "source": [
    "## 8. Compute Ranking Metrics\n",
    "\n",
    "Now that you know whether each piece of retrieved context is relevant or irrelevant to the corresponding query, you can compute precision@k for k = 1, 2 for each query. This metric tells you what percentage of the retrieved context is relevant to the corresponding query.\n",
    "\n",
    "precision@k = (# of top-k retrieved documents that are relevant) / (k retrieved documents)\n",
    "\n",
    "If your precision@2 is greater than zero for a particular query, your LlamaIndex application successfully retrieved at least one relevant piece of context with which to answer the query. If the precision@k is zero for a particular query, that means that no relevant piece of context was retrieved.\n",
    "\n",
    "Compute precision@k for k = 1, 2 and view the results."
   ]
  },
  {
   "cell_type": "code",
   "execution_count": null,
   "metadata": {},
   "outputs": [],
   "source": [
    "first_document_relevances = [\n",
    "    {\"relevant\": True, \"irrelevant\": False}.get(rel)\n",
    "    for rel in query_df[\":tag.str:openai_relevance_0\"].tolist()\n",
    "]\n",
    "second_document_relevances = [\n",
    "    {\"relevant\": True, \"irrelevant\": False}.get(rel)\n",
    "    for rel in query_df[\":tag.str:openai_relevance_1\"].tolist()\n",
    "]\n",
    "\n",
    "list_of_precisions_at_k_lists = [\n",
    "    compute_precisions_at_k([rel0, rel1])\n",
    "    for rel0, rel1 in zip(first_document_relevances, second_document_relevances)\n",
    "]\n",
    "precisions_at_1, precisions_at_2 = [\n",
    "    [precisions_at_k[index] for precisions_at_k in list_of_precisions_at_k_lists]\n",
    "    for index in [0, 1]\n",
    "]\n",
    "query_df[\":tag.float:openai_precision_at_1\"] = precisions_at_1\n",
    "query_df[\":tag.float:openai_precision_at_2\"] = precisions_at_2\n",
    "query_df[\n",
    "    [\n",
    "        \":tag.str:openai_relevance_0\",\n",
    "        \":tag.str:openai_relevance_1\",\n",
    "        \":tag.float:openai_precision_at_1\",\n",
    "        \":tag.float:openai_precision_at_2\",\n",
    "    ]\n",
    "]"
   ]
  },
  {
   "cell_type": "markdown",
   "metadata": {
    "id": "f_7lFqvmSWS1"
   },
   "source": [
    "# 9. Launch phoenix\n",
    "\n",
    "Define your knowledge base dataset with a schema that specifies the meaning of each column (features, predictions, actuals, tags, embeddings, etc.). See the [docs](https://docs.arize.com/phoenix/) for guides on how to define your own schema and API reference on `phoenix.Schema` and `phoenix.EmbeddingColumnNames`."
   ]
  },
  {
   "cell_type": "code",
   "execution_count": null,
   "metadata": {},
   "outputs": [],
   "source": [
    "database_schema = px.Schema(\n",
    "    prediction_id_column_name=\"document_id\",\n",
    "    prompt_column_names=px.EmbeddingColumnNames(\n",
    "        vector_column_name=\"text_vector\",\n",
    "        raw_data_column_name=\"text\",\n",
    "    ),\n",
    ")\n",
    "database_ds = px.Dataset(\n",
    "    dataframe=database_df,\n",
    "    schema=database_schema,\n",
    "    name=\"database\",\n",
    ")"
   ]
  },
  {
   "cell_type": "markdown",
   "metadata": {
    "id": "z-JeimqdSWS1"
   },
   "source": [
    "Define your query dataset. Because the query dataframe is in OpenInference format, Phoenix is able to infer the meaning of each column without a user-defined schema by using the phoenix.Dataset.from_open_inference class method."
   ]
  },
  {
   "cell_type": "code",
   "execution_count": null,
   "metadata": {},
   "outputs": [],
   "source": [
    "query_ds = px.Dataset.from_open_inference(query_df)"
   ]
  },
  {
   "cell_type": "markdown",
   "metadata": {
    "id": "-xUuyryhSWS1"
   },
   "source": [
    "Launch Phoenix. Follow the instructions in the cell output to open the Phoenix UI."
   ]
  },
  {
   "cell_type": "code",
   "execution_count": null,
   "metadata": {},
   "outputs": [],
   "source": [
    "session = px.launch_app(primary=query_ds, corpus=database_ds)"
   ]
  },
  {
   "cell_type": "markdown",
   "metadata": {
    "id": "VNeNrPUUSWS1"
   },
   "source": [
    "# Surface Problematic Clusters and Data Points\n",
    "\n",
    "---\n",
    "\n",
    "\n",
    "\n",
    "Phoenix helps you:\n",
    "\n",
    "- visualize your embeddings\n",
    "- color the resulting point cloud using evaluation metrics\n",
    "- cluster the points and surface up problematic clusters based on whatever metric you care about\n",
    "\n",
    "Follow along with the tutorial walkthrough [here](https://youtu.be/hbQYDpJayFw?t=1782), or view the video in your notebook by running the cell below. The video will show you how to investigate your query and knowledge base and identify problematic clusters of data points using Phoenix."
   ]
  },
  {
   "cell_type": "code",
   "execution_count": null,
   "metadata": {},
   "outputs": [],
   "source": [
    "start_time_in_seconds = int(timedelta(hours=0, minutes=29, seconds=42).total_seconds())\n",
    "YouTubeVideo(\"hbQYDpJayFw\", start=start_time_in_seconds, width=560, height=315)"
   ]
  },
  {
   "cell_type": "code",
   "execution_count": null,
   "metadata": {},
   "outputs": [],
   "source": []
  }
 ],
 "metadata": {
  "kernelspec": {
   "display_name": "jupyter-byZSjI24",
   "language": "python",
   "name": "python3"
  },
  "language_info": {
   "codemirror_mode": {
    "name": "ipython",
    "version": 3
   },
   "file_extension": ".py",
   "mimetype": "text/x-python",
   "name": "python",
   "nbconvert_exporter": "python",
   "pygments_lexer": "ipython3",
   "version": "3.11.6"
  }
 },
 "nbformat": 4,
 "nbformat_minor": 0
}
