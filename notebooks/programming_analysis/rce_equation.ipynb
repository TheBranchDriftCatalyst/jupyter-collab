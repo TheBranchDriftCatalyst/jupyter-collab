{
 "cells": [
  {
   "cell_type": "code",
   "execution_count": 27,
   "metadata": {},
   "outputs": [
    {
     "data": {
      "application/vnd.jupyter.widget-view+json": {
       "model_id": "4b15f50c7171450b9e56665c321fa9a3",
       "version_major": 2,
       "version_minor": 0
      },
      "text/plain": [
       "interactive(children=(FloatSlider(value=0.5, description='Risk Weight', max=1.0, step=0.01), FloatSlider(value…"
      ]
     },
     "metadata": {},
     "output_type": "display_data"
    },
    {
     "data": {
      "text/plain": [
       "<function __main__.update_plot(risk_weight, effort_weight, complexity_weight)>"
      ]
     },
     "execution_count": 27,
     "metadata": {},
     "output_type": "execute_result"
    }
   ],
   "source": [
    "import matplotlib.pyplot as plt\n",
    "import numpy as np\n",
    "import ipywidgets as widgets\n",
    "from ipywidgets import interact\n",
    "\n",
    "# Function to calculate RCE score with weight modifiers\n",
    "def calculate_rce_score(risk, effort, complexity, risk_weight, effort_weight, complexity_weight):\n",
    "    return round((risk * risk_weight + effort * effort_weight + complexity * complexity_weight) / 3)\n",
    "\n",
    "# Function to calculate the final value with uncertainty\n",
    "def calculate_final_value(rce_score, uncertainty):\n",
    "    # Scale the uncertainty based on the RCE score\n",
    "    scaled_uncertainty = uncertainty * rce_score\n",
    "    # Calculate the final value\n",
    "    return rce_score * (1 + (scaled_uncertainty or .01))\n",
    "\n",
    "# Function to update and display the plot based on the current slider values\n",
    "def update_plot(risk_weight, effort_weight, complexity_weight):\n",
    "    unique_rce_scores = set()\n",
    "    uncertainty_values = np.linspace(0, 1, 100)\n",
    "\n",
    "    # Calculate unique RCE scores with the current weights\n",
    "    for risk in np.arange(0, 11, 1):\n",
    "        for effort in np.arange(0, 11, 1):\n",
    "            for complexity in np.arange(0, 11, 1):\n",
    "                rce_score = calculate_rce_score(risk, effort, complexity, risk_weight, effort_weight, complexity_weight)\n",
    "                unique_rce_scores.add(rce_score)\n",
    "\n",
    "    # Plotting using Matplotlib\n",
    "    plt.figure(figsize=(10, 6))\n",
    "\n",
    "    for rce_score in sorted(unique_rce_scores):\n",
    "        final_values = [calculate_final_value(rce_score, u) for u in uncertainty_values]\n",
    "        plt.plot(uncertainty_values, final_values, label=f'RCE Score: {rce_score}')\n",
    "\n",
    "    plt.xlabel('Uncertainty')\n",
    "    plt.ylabel('RCE Score')\n",
    "    plt.title('Impact of Uncertainty on RCE Score')\n",
    "    plt.legend(bbox_to_anchor=(1.05, 1), loc='upper left')\n",
    "    plt.grid(True)\n",
    "    plt.show()\n",
    "\n",
    "# Sliders for the weight modifiers\n",
    "risk_weight_slider = widgets.FloatSlider(value=0.50, min=0, max=1, step=0.01, description='Risk Weight')\n",
    "effort_weight_slider = widgets.FloatSlider(value=0.75, min=0, max=1, step=0.01, description='Effort Weight')\n",
    "complexity_weight_slider = widgets.FloatSlider(value=0.95, min=0, max=1, step=0.01, description='Complexity Weight')\n",
    "\n",
    "# Display the interactive plot with sliders\n",
    "interact(update_plot, risk_weight=risk_weight_slider, effort_weight=effort_weight_slider, complexity_weight=complexity_weight_slider)\n"
   ]
  }
 ],
 "metadata": {
  "kernelspec": {
   "display_name": "jupyter-byZSjI24",
   "language": "python",
   "name": "python3"
  },
  "language_info": {
   "codemirror_mode": {
    "name": "ipython",
    "version": 3
   },
   "file_extension": ".py",
   "mimetype": "text/x-python",
   "name": "python",
   "nbconvert_exporter": "python",
   "pygments_lexer": "ipython3",
   "version": "3.11.6"
  }
 },
 "nbformat": 4,
 "nbformat_minor": 2
}
