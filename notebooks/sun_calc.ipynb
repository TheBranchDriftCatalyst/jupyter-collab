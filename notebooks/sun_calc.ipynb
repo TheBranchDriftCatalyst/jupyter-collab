{
 "cells": [
  {
   "cell_type": "code",
   "execution_count": 1,
   "metadata": {},
   "outputs": [],
   "source": [
    "import math\n",
    "from datetime import datetime, timedelta"
   ]
  },
  {
   "cell_type": "code",
   "execution_count": 17,
   "metadata": {},
   "outputs": [
    {
     "name": "stdout",
     "output_type": "stream",
     "text": [
      "Daylight duration on 2024-06-19 at latitude 37.7749° is approximately 14.62 hours.\n"
     ]
    }
   ],
   "source": [
    "def get_day_of_year(date: datetime) -> int:\n",
    "    \"\"\"\n",
    "    Calculates the day of the year for a given date.\n",
    "    :param date: The date object.\n",
    "    :return: The day of the year (1-365).\n",
    "    \"\"\"\n",
    "    start = datetime(date.year, 1, 1)\n",
    "    diff = date - start\n",
    "    return diff.days + 1\n",
    "\n",
    "\n",
    "def get_solar_declination(day_of_year: int) -> float:\n",
    "    \"\"\"\n",
    "    Calculates the solar declination angle.\n",
    "    :param day_of_year: The day of the year (1-365).\n",
    "    :return: The solar declination angle in radians.\n",
    "    \"\"\"\n",
    "    axial_tilt = 23.44 * (math.pi / 180)  # Earth's axial tilt in radians\n",
    "    return axial_tilt * math.sin((2 * math.pi / 365.25) * (day_of_year - 81))\n",
    "\n",
    "\n",
    "def get_hour_angle(latitude: float, declination: float) -> float:\n",
    "    \"\"\"\n",
    "    Calculates the hour angle for sunrise or sunset.\n",
    "    :param latitude: The latitude in degrees.\n",
    "    :param declination: The solar declination angle in radians.\n",
    "    :return: The hour angle in radians.\n",
    "    \"\"\"\n",
    "    lat_rad = latitude * (math.pi / 180)  # Convert latitude to radians\n",
    "    return math.acos(-math.tan(lat_rad) * math.tan(declination))\n",
    "\n",
    "\n",
    "def get_daylight_duration(latitude: float, date: datetime) -> float:\n",
    "    \"\"\"\n",
    "    Calculates the daylight duration in hours.\n",
    "    :param latitude: The latitude in degrees.\n",
    "    :param date: The date object.\n",
    "    :return: The daylight duration in hours.\n",
    "    \"\"\"\n",
    "    day_of_year = get_day_of_year(date)\n",
    "    declination = get_solar_declination(day_of_year)\n",
    "    hour_angle = get_hour_angle(latitude, declination)\n",
    "    daylight_duration = (2 * hour_angle * 24) / (\n",
    "        2 * math.pi\n",
    "    )  # Convert hour angle to hours\n",
    "    return daylight_duration\n",
    "\n",
    "\n",
    "# Example usage\n",
    "# latitude = -0\n",
    "latitude = 37.7749  # Latitude for San Francisco, CA\n",
    "# latitude = 39.7392\n",
    "date = datetime.now()  # Today's date\n",
    "daylight_duration = get_daylight_duration(latitude, date)\n",
    "\n",
    "print(\n",
    "    f\"Daylight duration on {date.strftime('%Y-%m-%d')} at latitude {latitude}° is approximately {daylight_duration:.2f} hours.\"\n",
    ")"
   ]
  }
 ],
 "metadata": {
  "kernelspec": {
   "display_name": "Python 3",
   "language": "python",
   "name": "python3"
  },
  "language_info": {
   "codemirror_mode": {
    "name": "ipython",
    "version": 3
   },
   "file_extension": ".py",
   "mimetype": "text/x-python",
   "name": "python",
   "nbconvert_exporter": "python",
   "pygments_lexer": "ipython3",
   "version": "3.12.3"
  }
 },
 "nbformat": 4,
 "nbformat_minor": 2
}
